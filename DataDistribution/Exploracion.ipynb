{
 "cells": [
  {
   "cell_type": "markdown",
   "source": [
    "# Boxplot\n",
    "Sinónimos: box o whiskers plot o diagrama de caja\n",
    "Gráfico que nos permite ver la distribución de los datos"
   ],
   "metadata": {
    "collapsed": false,
    "pycharm": {
     "name": "#%% md\n"
    }
   }
  },
  {
   "cell_type": "markdown",
   "source": [
    "# Frequency table\n",
    "Una tabla que agrupa la información numérica en intervalos (bins)"
   ],
   "metadata": {
    "collapsed": false,
    "pycharm": {
     "name": "#%% md\n"
    }
   }
  },
  {
   "cell_type": "markdown",
   "source": [
    "# Histogram\n",
    "Un gráfico de la tabla de frecuencia con los intervalos en el eje X y el conteo en el eje Y"
   ],
   "metadata": {
    "collapsed": false,
    "pycharm": {
     "name": "#%% md\n"
    }
   }
  },
  {
   "cell_type": "markdown",
   "source": [
    "# Density plot\n",
    "Sinónimos: Kernel density estimate\n",
    "Una versión suavizada de un histograma"
   ],
   "metadata": {
    "collapsed": false,
    "pycharm": {
     "name": "#%% md\n"
    }
   }
  },
  {
   "cell_type": "code",
   "execution_count": 1,
   "outputs": [],
   "source": [
    "import pandas as pd"
   ],
   "metadata": {
    "collapsed": false,
    "pycharm": {
     "name": "#%%\n"
    }
   }
  },
  {
   "cell_type": "code",
   "execution_count": 2,
   "outputs": [
    {
     "data": {
      "text/plain": "             State  Population  Murder.Rate Abbreviation\n0          Alabama     4779736          5.7           AL\n1           Alaska      710231          5.6           AK\n2          Arizona     6392017          4.7           AZ\n3         Arkansas     2915918          5.6           AR\n4       California    37253956          4.4           CA\n5         Colorado     5029196          2.8           CO\n6      Connecticut     3574097          2.4           CT\n7         Delaware      897934          5.8           DE\n8          Florida    18801310          5.8           FL\n9          Georgia     9687653          5.7           GA\n10          Hawaii     1360301          1.8           HI\n11           Idaho     1567582          2.0           ID\n12        Illinois    12830632          5.3           IL\n13         Indiana     6483802          5.0           IN\n14            Iowa     3046355          1.9           IA\n15          Kansas     2853118          3.1           KS\n16        Kentucky     4339367          3.6           KY\n17       Louisiana     4533372         10.3           LA\n18           Maine     1328361          1.6           ME\n19        Maryland     5773552          6.1           MD\n20   Massachusetts     6547629          2.0           MA\n21        Michigan     9883640          5.4           MI\n22       Minnesota     5303925          1.6           MN\n23     Mississippi     2967297          8.6           MS\n24        Missouri     5988927          6.6           MO\n25         Montana      989415          3.6           MT\n26        Nebraska     1826341          2.9           NE\n27          Nevada     2700551          6.0           NV\n28   New Hampshire     1316470          0.9           NH\n29      New Jersey     8791894          3.9           NJ\n30      New Mexico     2059179          4.8           NM\n31        New York    19378102          3.1           NY\n32  North Carolina     9535483          5.1           NC\n33    North Dakota      672591          3.0           ND\n34            Ohio    11536504          4.0           OH\n35        Oklahoma     3751351          4.5           OK\n36          Oregon     3831074          2.0           OR\n37    Pennsylvania    12702379          4.8           PA\n38    Rhode Island     1052567          2.4           RI\n39  South Carolina     4625364          6.4           SC\n40    South Dakota      814180          2.3           SD\n41       Tennessee     6346105          5.7           TN\n42           Texas    25145561          4.4           TX\n43            Utah     2763885          2.3           UT\n44         Vermont      625741          1.6           VT\n45        Virginia     8001024          4.1           VA\n46      Washington     6724540          2.5           WA\n47   West Virginia     1852994          4.0           WV\n48       Wisconsin     5686986          2.9           WI\n49         Wyoming      563626          2.7           WY",
      "text/html": "<div>\n<style scoped>\n    .dataframe tbody tr th:only-of-type {\n        vertical-align: middle;\n    }\n\n    .dataframe tbody tr th {\n        vertical-align: top;\n    }\n\n    .dataframe thead th {\n        text-align: right;\n    }\n</style>\n<table border=\"1\" class=\"dataframe\">\n  <thead>\n    <tr style=\"text-align: right;\">\n      <th></th>\n      <th>State</th>\n      <th>Population</th>\n      <th>Murder.Rate</th>\n      <th>Abbreviation</th>\n    </tr>\n  </thead>\n  <tbody>\n    <tr>\n      <th>0</th>\n      <td>Alabama</td>\n      <td>4779736</td>\n      <td>5.7</td>\n      <td>AL</td>\n    </tr>\n    <tr>\n      <th>1</th>\n      <td>Alaska</td>\n      <td>710231</td>\n      <td>5.6</td>\n      <td>AK</td>\n    </tr>\n    <tr>\n      <th>2</th>\n      <td>Arizona</td>\n      <td>6392017</td>\n      <td>4.7</td>\n      <td>AZ</td>\n    </tr>\n    <tr>\n      <th>3</th>\n      <td>Arkansas</td>\n      <td>2915918</td>\n      <td>5.6</td>\n      <td>AR</td>\n    </tr>\n    <tr>\n      <th>4</th>\n      <td>California</td>\n      <td>37253956</td>\n      <td>4.4</td>\n      <td>CA</td>\n    </tr>\n    <tr>\n      <th>5</th>\n      <td>Colorado</td>\n      <td>5029196</td>\n      <td>2.8</td>\n      <td>CO</td>\n    </tr>\n    <tr>\n      <th>6</th>\n      <td>Connecticut</td>\n      <td>3574097</td>\n      <td>2.4</td>\n      <td>CT</td>\n    </tr>\n    <tr>\n      <th>7</th>\n      <td>Delaware</td>\n      <td>897934</td>\n      <td>5.8</td>\n      <td>DE</td>\n    </tr>\n    <tr>\n      <th>8</th>\n      <td>Florida</td>\n      <td>18801310</td>\n      <td>5.8</td>\n      <td>FL</td>\n    </tr>\n    <tr>\n      <th>9</th>\n      <td>Georgia</td>\n      <td>9687653</td>\n      <td>5.7</td>\n      <td>GA</td>\n    </tr>\n    <tr>\n      <th>10</th>\n      <td>Hawaii</td>\n      <td>1360301</td>\n      <td>1.8</td>\n      <td>HI</td>\n    </tr>\n    <tr>\n      <th>11</th>\n      <td>Idaho</td>\n      <td>1567582</td>\n      <td>2.0</td>\n      <td>ID</td>\n    </tr>\n    <tr>\n      <th>12</th>\n      <td>Illinois</td>\n      <td>12830632</td>\n      <td>5.3</td>\n      <td>IL</td>\n    </tr>\n    <tr>\n      <th>13</th>\n      <td>Indiana</td>\n      <td>6483802</td>\n      <td>5.0</td>\n      <td>IN</td>\n    </tr>\n    <tr>\n      <th>14</th>\n      <td>Iowa</td>\n      <td>3046355</td>\n      <td>1.9</td>\n      <td>IA</td>\n    </tr>\n    <tr>\n      <th>15</th>\n      <td>Kansas</td>\n      <td>2853118</td>\n      <td>3.1</td>\n      <td>KS</td>\n    </tr>\n    <tr>\n      <th>16</th>\n      <td>Kentucky</td>\n      <td>4339367</td>\n      <td>3.6</td>\n      <td>KY</td>\n    </tr>\n    <tr>\n      <th>17</th>\n      <td>Louisiana</td>\n      <td>4533372</td>\n      <td>10.3</td>\n      <td>LA</td>\n    </tr>\n    <tr>\n      <th>18</th>\n      <td>Maine</td>\n      <td>1328361</td>\n      <td>1.6</td>\n      <td>ME</td>\n    </tr>\n    <tr>\n      <th>19</th>\n      <td>Maryland</td>\n      <td>5773552</td>\n      <td>6.1</td>\n      <td>MD</td>\n    </tr>\n    <tr>\n      <th>20</th>\n      <td>Massachusetts</td>\n      <td>6547629</td>\n      <td>2.0</td>\n      <td>MA</td>\n    </tr>\n    <tr>\n      <th>21</th>\n      <td>Michigan</td>\n      <td>9883640</td>\n      <td>5.4</td>\n      <td>MI</td>\n    </tr>\n    <tr>\n      <th>22</th>\n      <td>Minnesota</td>\n      <td>5303925</td>\n      <td>1.6</td>\n      <td>MN</td>\n    </tr>\n    <tr>\n      <th>23</th>\n      <td>Mississippi</td>\n      <td>2967297</td>\n      <td>8.6</td>\n      <td>MS</td>\n    </tr>\n    <tr>\n      <th>24</th>\n      <td>Missouri</td>\n      <td>5988927</td>\n      <td>6.6</td>\n      <td>MO</td>\n    </tr>\n    <tr>\n      <th>25</th>\n      <td>Montana</td>\n      <td>989415</td>\n      <td>3.6</td>\n      <td>MT</td>\n    </tr>\n    <tr>\n      <th>26</th>\n      <td>Nebraska</td>\n      <td>1826341</td>\n      <td>2.9</td>\n      <td>NE</td>\n    </tr>\n    <tr>\n      <th>27</th>\n      <td>Nevada</td>\n      <td>2700551</td>\n      <td>6.0</td>\n      <td>NV</td>\n    </tr>\n    <tr>\n      <th>28</th>\n      <td>New Hampshire</td>\n      <td>1316470</td>\n      <td>0.9</td>\n      <td>NH</td>\n    </tr>\n    <tr>\n      <th>29</th>\n      <td>New Jersey</td>\n      <td>8791894</td>\n      <td>3.9</td>\n      <td>NJ</td>\n    </tr>\n    <tr>\n      <th>30</th>\n      <td>New Mexico</td>\n      <td>2059179</td>\n      <td>4.8</td>\n      <td>NM</td>\n    </tr>\n    <tr>\n      <th>31</th>\n      <td>New York</td>\n      <td>19378102</td>\n      <td>3.1</td>\n      <td>NY</td>\n    </tr>\n    <tr>\n      <th>32</th>\n      <td>North Carolina</td>\n      <td>9535483</td>\n      <td>5.1</td>\n      <td>NC</td>\n    </tr>\n    <tr>\n      <th>33</th>\n      <td>North Dakota</td>\n      <td>672591</td>\n      <td>3.0</td>\n      <td>ND</td>\n    </tr>\n    <tr>\n      <th>34</th>\n      <td>Ohio</td>\n      <td>11536504</td>\n      <td>4.0</td>\n      <td>OH</td>\n    </tr>\n    <tr>\n      <th>35</th>\n      <td>Oklahoma</td>\n      <td>3751351</td>\n      <td>4.5</td>\n      <td>OK</td>\n    </tr>\n    <tr>\n      <th>36</th>\n      <td>Oregon</td>\n      <td>3831074</td>\n      <td>2.0</td>\n      <td>OR</td>\n    </tr>\n    <tr>\n      <th>37</th>\n      <td>Pennsylvania</td>\n      <td>12702379</td>\n      <td>4.8</td>\n      <td>PA</td>\n    </tr>\n    <tr>\n      <th>38</th>\n      <td>Rhode Island</td>\n      <td>1052567</td>\n      <td>2.4</td>\n      <td>RI</td>\n    </tr>\n    <tr>\n      <th>39</th>\n      <td>South Carolina</td>\n      <td>4625364</td>\n      <td>6.4</td>\n      <td>SC</td>\n    </tr>\n    <tr>\n      <th>40</th>\n      <td>South Dakota</td>\n      <td>814180</td>\n      <td>2.3</td>\n      <td>SD</td>\n    </tr>\n    <tr>\n      <th>41</th>\n      <td>Tennessee</td>\n      <td>6346105</td>\n      <td>5.7</td>\n      <td>TN</td>\n    </tr>\n    <tr>\n      <th>42</th>\n      <td>Texas</td>\n      <td>25145561</td>\n      <td>4.4</td>\n      <td>TX</td>\n    </tr>\n    <tr>\n      <th>43</th>\n      <td>Utah</td>\n      <td>2763885</td>\n      <td>2.3</td>\n      <td>UT</td>\n    </tr>\n    <tr>\n      <th>44</th>\n      <td>Vermont</td>\n      <td>625741</td>\n      <td>1.6</td>\n      <td>VT</td>\n    </tr>\n    <tr>\n      <th>45</th>\n      <td>Virginia</td>\n      <td>8001024</td>\n      <td>4.1</td>\n      <td>VA</td>\n    </tr>\n    <tr>\n      <th>46</th>\n      <td>Washington</td>\n      <td>6724540</td>\n      <td>2.5</td>\n      <td>WA</td>\n    </tr>\n    <tr>\n      <th>47</th>\n      <td>West Virginia</td>\n      <td>1852994</td>\n      <td>4.0</td>\n      <td>WV</td>\n    </tr>\n    <tr>\n      <th>48</th>\n      <td>Wisconsin</td>\n      <td>5686986</td>\n      <td>2.9</td>\n      <td>WI</td>\n    </tr>\n    <tr>\n      <th>49</th>\n      <td>Wyoming</td>\n      <td>563626</td>\n      <td>2.7</td>\n      <td>WY</td>\n    </tr>\n  </tbody>\n</table>\n</div>"
     },
     "execution_count": 2,
     "metadata": {},
     "output_type": "execute_result"
    }
   ],
   "source": [
    "data = pd.read_csv(\"../DataSets/state.csv\")\n",
    "data"
   ],
   "metadata": {
    "collapsed": false,
    "pycharm": {
     "name": "#%%\n"
    }
   }
  },
  {
   "cell_type": "code",
   "execution_count": 3,
   "outputs": [
    {
     "data": {
      "text/plain": "0.05    1.600\n0.25    2.425\n0.50    4.000\n0.75    5.550\n0.95    6.510\nName: Murder.Rate, dtype: float64"
     },
     "execution_count": 3,
     "metadata": {},
     "output_type": "execute_result"
    }
   ],
   "source": [
    "data['Murder.Rate'].quantile([0.05,0.25,0.5,0.75,0.95])"
   ],
   "metadata": {
    "collapsed": false,
    "pycharm": {
     "name": "#%%\n"
    }
   }
  },
  {
   "cell_type": "code",
   "execution_count": 4,
   "outputs": [
    {
     "data": {
      "text/plain": "<AxesSubplot:>"
     },
     "execution_count": 4,
     "metadata": {},
     "output_type": "execute_result"
    },
    {
     "data": {
      "text/plain": "<Figure size 432x288 with 1 Axes>",
      "image/png": "[encoded data removed]"
     },
     "metadata": {
      "needs_background": "light"
     },
     "output_type": "display_data"
    }
   ],
   "source": [
    "data['Murder.Rate'].plot.box()"
   ],
   "metadata": {
    "collapsed": false,
    "pycharm": {
     "name": "#%%\n"
    }
   }
  },
  {
   "cell_type": "code",
   "execution_count": 6,
   "outputs": [
    {
     "data": {
      "text/plain": "<AxesSubplot:>"
     },
     "execution_count": 6,
     "metadata": {},
     "output_type": "execute_result"
    },
    {
     "data": {
      "text/plain": "<Figure size 432x288 with 1 Axes>",
      "image/png": "[encoded data removed]"
     },
     "metadata": {
      "needs_background": "light"
     },
     "output_type": "display_data"
    }
   ],
   "source": [
    "data['Population'].plot.box()"
   ],
   "metadata": {
    "collapsed": false,
    "pycharm": {
     "name": "#%%\n"
    }
   }
  },
  {
   "cell_type": "code",
   "execution_count": 7,
   "outputs": [
    {
     "data": {
      "text/plain": "<AxesSubplot:>"
     },
     "execution_count": 7,
     "metadata": {},
     "output_type": "execute_result"
    },
    {
     "data": {
      "text/plain": "<Figure size 432x288 with 1 Axes>",
      "image/png": "[encoded data removed]"
     },
     "metadata": {
      "needs_background": "light"
     },
     "output_type": "display_data"
    }
   ],
   "source": [
    "population = data['Population']/1000000\n",
    "\n",
    "population.plot.box()"
   ],
   "metadata": {
    "collapsed": false,
    "pycharm": {
     "name": "#%%\n"
    }
   }
  },
  {
   "cell_type": "code",
   "execution_count": 10,
   "outputs": [
    {
     "data": {
      "text/plain": "(526935.67, 4232659.0]      24\n(4232659.0, 7901692.0]      14\n(7901692.0, 11570725.0]      6\n(11570725.0, 15239758.0]     2\n(15239758.0, 18908791.0]     1\n(18908791.0, 22577824.0]     1\n(22577824.0, 26246857.0]     1\n(33584923.0, 37253956.0]     1\n(26246857.0, 29915890.0]     0\n(29915890.0, 33584923.0]     0\nName: Population, dtype: int64"
     },
     "execution_count": 10,
     "metadata": {},
     "output_type": "execute_result"
    }
   ],
   "source": [
    "# Obteniendo bins\n",
    "\n",
    "bins = pd.cut(data['Population'],10)\n",
    "\n",
    "# Tabla de frecyencia\n",
    "bins.value_counts()"
   ],
   "metadata": {
    "collapsed": false,
    "pycharm": {
     "name": "#%%\n"
    }
   }
  },
  {
   "cell_type": "code",
   "execution_count": 12,
   "outputs": [
    {
     "data": {
      "text/plain": "<AxesSubplot:ylabel='Frequency'>"
     },
     "execution_count": 12,
     "metadata": {},
     "output_type": "execute_result"
    },
    {
     "data": {
      "text/plain": "<Figure size 432x288 with 1 Axes>",
      "image/png": "[encoded data removed]"
     },
     "metadata": {
      "needs_background": "light"
     },
     "output_type": "display_data"
    }
   ],
   "source": [
    "(data['Population']/1000000).plot.hist()"
   ],
   "metadata": {
    "collapsed": false,
    "pycharm": {
     "name": "#%%\n"
    }
   }
  },
  {
   "cell_type": "code",
   "execution_count": 23,
   "outputs": [
    {
     "data": {
      "text/plain": "<AxesSubplot:ylabel='Density'>"
     },
     "execution_count": 23,
     "metadata": {},
     "output_type": "execute_result"
    },
    {
     "data": {
      "text/plain": "<Figure size 432x288 with 1 Axes>",
      "image/png": "[encoded data removed]"
     },
     "metadata": {
      "needs_background": "light"
     },
     "output_type": "display_data"
    }
   ],
   "source": [
    "plot = data['Murder.Rate'].plot.hist(bins=10,density=True)\n",
    "\n",
    "data['Murder.Rate'].plot.density(ax=plot)"
   ],
   "metadata": {
    "collapsed": false,
    "pycharm": {
     "name": "#%%\n"
    }
   }
  },
  {
   "cell_type": "code",
   "execution_count": null,
   "outputs": [],
   "source": [],
   "metadata": {
    "collapsed": false,
    "pycharm": {
     "name": "#%%\n"
    }
   }
  }
 ],
 "metadata": {
  "kernelspec": {
   "display_name": "Python 3",
   "language": "python",
   "name": "python3"
  },
  "language_info": {
   "codemirror_mode": {
    "name": "ipython",
    "version": 2
   },
   "file_extension": ".py",
   "mimetype": "text/x-python",
   "name": "python",
   "nbconvert_exporter": "python",
   "pygments_lexer": "ipython2",
   "version": "2.7.6"
  }
 },
 "nbformat": 4,
 "nbformat_minor": 0
}