{
 "cells": [
  {
   "cell_type": "code",
   "execution_count": 1,
   "outputs": [],
   "source": [
    "import pandas as pd"
   ],
   "metadata": {
    "collapsed": false,
    "pycharm": {
     "name": "#%%\n"
    }
   }
  },
  {
   "cell_type": "code",
   "execution_count": 2,
   "outputs": [
    {
     "data": {
      "text/plain": "                                                     App             Category  \\\n0         Photo Editor & Candy Camera & Grid & ScrapBook       ART_AND_DESIGN   \n1                                    Coloring book moana       ART_AND_DESIGN   \n2      U Launcher Lite – FREE Live Cool Themes, Hide ...       ART_AND_DESIGN   \n3                                  Sketch - Draw & Paint       ART_AND_DESIGN   \n4                  Pixel Draw - Number Art Coloring Book       ART_AND_DESIGN   \n...                                                  ...                  ...   \n10836                                   Sya9a Maroc - FR               FAMILY   \n10837                   Fr. Mike Schmitz Audio Teachings               FAMILY   \n10838                             Parkinson Exercices FR              MEDICAL   \n10839                      The SCP Foundation DB fr nn5n  BOOKS_AND_REFERENCE   \n10840      iHoroscope - 2018 Daily Horoscope & Astrology            LIFESTYLE   \n\n       Rating Reviews                Size     Installs  Type Price  \\\n0         4.1     159                 19M      10,000+  Free     0   \n1         3.9     967                 14M     500,000+  Free     0   \n2         4.7   87510                8.7M   5,000,000+  Free     0   \n3         4.5  215644                 25M  50,000,000+  Free     0   \n4         4.3     967                2.8M     100,000+  Free     0   \n...       ...     ...                 ...          ...   ...   ...   \n10836     4.5      38                 53M       5,000+  Free     0   \n10837     5.0       4                3.6M         100+  Free     0   \n10838     NaN       3                9.5M       1,000+  Free     0   \n10839     4.5     114  Varies with device       1,000+  Free     0   \n10840     4.5  398307                 19M  10,000,000+  Free     0   \n\n      Content Rating                     Genres      Last Updated  \\\n0           Everyone               Art & Design   January 7, 2018   \n1           Everyone  Art & Design;Pretend Play  January 15, 2018   \n2           Everyone               Art & Design    August 1, 2018   \n3               Teen               Art & Design      June 8, 2018   \n4           Everyone    Art & Design;Creativity     June 20, 2018   \n...              ...                        ...               ...   \n10836       Everyone                  Education     July 25, 2017   \n10837       Everyone                  Education      July 6, 2018   \n10838       Everyone                    Medical  January 20, 2017   \n10839     Mature 17+          Books & Reference  January 19, 2015   \n10840       Everyone                  Lifestyle     July 25, 2018   \n\n              Current Ver         Android Ver  \n0                   1.0.0        4.0.3 and up  \n1                   2.0.0        4.0.3 and up  \n2                   1.2.4        4.0.3 and up  \n3      Varies with device          4.2 and up  \n4                     1.1          4.4 and up  \n...                   ...                 ...  \n10836                1.48          4.1 and up  \n10837                 1.0          4.1 and up  \n10838                 1.0          2.2 and up  \n10839  Varies with device  Varies with device  \n10840  Varies with device  Varies with device  \n\n[10841 rows x 13 columns]",
      "text/html": "<div>\n<style scoped>\n    .dataframe tbody tr th:only-of-type {\n        vertical-align: middle;\n    }\n\n    .dataframe tbody tr th {\n        vertical-align: top;\n    }\n\n    .dataframe thead th {\n        text-align: right;\n    }\n</style>\n<table border=\"1\" class=\"dataframe\">\n  <thead>\n    <tr style=\"text-align: right;\">\n      <th></th>\n      <th>App</th>\n      <th>Category</th>\n      <th>Rating</th>\n      <th>Reviews</th>\n      <th>Size</th>\n      <th>Installs</th>\n      <th>Type</th>\n      <th>Price</th>\n      <th>Content Rating</th>\n      <th>Genres</th>\n      <th>Last Updated</th>\n      <th>Current Ver</th>\n      <th>Android Ver</th>\n    </tr>\n  </thead>\n  <tbody>\n    <tr>\n      <th>0</th>\n      <td>Photo Editor &amp; Candy Camera &amp; Grid &amp; ScrapBook</td>\n      <td>ART_AND_DESIGN</td>\n      <td>4.1</td>\n      <td>159</td>\n      <td>19M</td>\n      <td>10,000+</td>\n      <td>Free</td>\n      <td>0</td>\n      <td>Everyone</td>\n      <td>Art &amp; Design</td>\n      <td>January 7, 2018</td>\n      <td>1.0.0</td>\n      <td>4.0.3 and up</td>\n    </tr>\n    <tr>\n      <th>1</th>\n      <td>Coloring book moana</td>\n      <td>ART_AND_DESIGN</td>\n      <td>3.9</td>\n      <td>967</td>\n      <td>14M</td>\n      <td>500,000+</td>\n      <td>Free</td>\n      <td>0</td>\n      <td>Everyone</td>\n      <td>Art &amp; Design;Pretend Play</td>\n      <td>January 15, 2018</td>\n      <td>2.0.0</td>\n      <td>4.0.3 and up</td>\n    </tr>\n    <tr>\n      <th>2</th>\n      <td>U Launcher Lite – FREE Live Cool Themes, Hide ...</td>\n      <td>ART_AND_DESIGN</td>\n      <td>4.7</td>\n      <td>87510</td>\n      <td>8.7M</td>\n      <td>5,000,000+</td>\n      <td>Free</td>\n      <td>0</td>\n      <td>Everyone</td>\n      <td>Art &amp; Design</td>\n      <td>August 1, 2018</td>\n      <td>1.2.4</td>\n      <td>4.0.3 and up</td>\n    </tr>\n    <tr>\n      <th>3</th>\n      <td>Sketch - Draw &amp; Paint</td>\n      <td>ART_AND_DESIGN</td>\n      <td>4.5</td>\n      <td>215644</td>\n      <td>25M</td>\n      <td>50,000,000+</td>\n      <td>Free</td>\n      <td>0</td>\n      <td>Teen</td>\n      <td>Art &amp; Design</td>\n      <td>June 8, 2018</td>\n      <td>Varies with device</td>\n      <td>4.2 and up</td>\n    </tr>\n    <tr>\n      <th>4</th>\n      <td>Pixel Draw - Number Art Coloring Book</td>\n      <td>ART_AND_DESIGN</td>\n      <td>4.3</td>\n      <td>967</td>\n      <td>2.8M</td>\n      <td>100,000+</td>\n      <td>Free</td>\n      <td>0</td>\n      <td>Everyone</td>\n      <td>Art &amp; Design;Creativity</td>\n      <td>June 20, 2018</td>\n      <td>1.1</td>\n      <td>4.4 and up</td>\n    </tr>\n    <tr>\n      <th>...</th>\n      <td>...</td>\n      <td>...</td>\n      <td>...</td>\n      <td>...</td>\n      <td>...</td>\n      <td>...</td>\n      <td>...</td>\n      <td>...</td>\n      <td>...</td>\n      <td>...</td>\n      <td>...</td>\n      <td>...</td>\n      <td>...</td>\n    </tr>\n    <tr>\n      <th>10836</th>\n      <td>Sya9a Maroc - FR</td>\n      <td>FAMILY</td>\n      <td>4.5</td>\n      <td>38</td>\n      <td>53M</td>\n      <td>5,000+</td>\n      <td>Free</td>\n      <td>0</td>\n      <td>Everyone</td>\n      <td>Education</td>\n      <td>July 25, 2017</td>\n      <td>1.48</td>\n      <td>4.1 and up</td>\n    </tr>\n    <tr>\n      <th>10837</th>\n      <td>Fr. Mike Schmitz Audio Teachings</td>\n      <td>FAMILY</td>\n      <td>5.0</td>\n      <td>4</td>\n      <td>3.6M</td>\n      <td>100+</td>\n      <td>Free</td>\n      <td>0</td>\n      <td>Everyone</td>\n      <td>Education</td>\n      <td>July 6, 2018</td>\n      <td>1.0</td>\n      <td>4.1 and up</td>\n    </tr>\n    <tr>\n      <th>10838</th>\n      <td>Parkinson Exercices FR</td>\n      <td>MEDICAL</td>\n      <td>NaN</td>\n      <td>3</td>\n      <td>9.5M</td>\n      <td>1,000+</td>\n      <td>Free</td>\n      <td>0</td>\n      <td>Everyone</td>\n      <td>Medical</td>\n      <td>January 20, 2017</td>\n      <td>1.0</td>\n      <td>2.2 and up</td>\n    </tr>\n    <tr>\n      <th>10839</th>\n      <td>The SCP Foundation DB fr nn5n</td>\n      <td>BOOKS_AND_REFERENCE</td>\n      <td>4.5</td>\n      <td>114</td>\n      <td>Varies with device</td>\n      <td>1,000+</td>\n      <td>Free</td>\n      <td>0</td>\n      <td>Mature 17+</td>\n      <td>Books &amp; Reference</td>\n      <td>January 19, 2015</td>\n      <td>Varies with device</td>\n      <td>Varies with device</td>\n    </tr>\n    <tr>\n      <th>10840</th>\n      <td>iHoroscope - 2018 Daily Horoscope &amp; Astrology</td>\n      <td>LIFESTYLE</td>\n      <td>4.5</td>\n      <td>398307</td>\n      <td>19M</td>\n      <td>10,000,000+</td>\n      <td>Free</td>\n      <td>0</td>\n      <td>Everyone</td>\n      <td>Lifestyle</td>\n      <td>July 25, 2018</td>\n      <td>Varies with device</td>\n      <td>Varies with device</td>\n    </tr>\n  </tbody>\n</table>\n<p>10841 rows × 13 columns</p>\n</div>"
     },
     "execution_count": 2,
     "metadata": {},
     "output_type": "execute_result"
    }
   ],
   "source": [
    "data = pd.read_csv(\"../DataSets/googleplaystore.csv\")\n",
    "data"
   ],
   "metadata": {
    "collapsed": false,
    "pycharm": {
     "name": "#%%\n"
    }
   }
  },
  {
   "cell_type": "code",
   "execution_count": 3,
   "outputs": [
    {
     "data": {
      "text/plain": "                                                 App        Category  Rating  \\\n0     Photo Editor & Candy Camera & Grid & ScrapBook  ART_AND_DESIGN     4.1   \n1                                Coloring book moana  ART_AND_DESIGN     3.9   \n2  U Launcher Lite – FREE Live Cool Themes, Hide ...  ART_AND_DESIGN     4.7   \n3                              Sketch - Draw & Paint  ART_AND_DESIGN     4.5   \n4              Pixel Draw - Number Art Coloring Book  ART_AND_DESIGN     4.3   \n5                         Paper flowers instructions  ART_AND_DESIGN     4.4   \n6            Smoke Effect Photo Maker - Smoke Editor  ART_AND_DESIGN     3.8   \n7                                   Infinite Painter  ART_AND_DESIGN     4.1   \n8                               Garden Coloring Book  ART_AND_DESIGN     4.4   \n9                      Kids Paint Free - Drawing Fun  ART_AND_DESIGN     4.7   \n\n  Reviews  Size     Installs  Type Price Content Rating  \\\n0     159   19M      10,000+  Free     0       Everyone   \n1     967   14M     500,000+  Free     0       Everyone   \n2   87510  8.7M   5,000,000+  Free     0       Everyone   \n3  215644   25M  50,000,000+  Free     0           Teen   \n4     967  2.8M     100,000+  Free     0       Everyone   \n5     167  5.6M      50,000+  Free     0       Everyone   \n6     178   19M      50,000+  Free     0       Everyone   \n7   36815   29M   1,000,000+  Free     0       Everyone   \n8   13791   33M   1,000,000+  Free     0       Everyone   \n9     121  3.1M      10,000+  Free     0       Everyone   \n\n                      Genres        Last Updated         Current Ver  \\\n0               Art & Design     January 7, 2018               1.0.0   \n1  Art & Design;Pretend Play    January 15, 2018               2.0.0   \n2               Art & Design      August 1, 2018               1.2.4   \n3               Art & Design        June 8, 2018  Varies with device   \n4    Art & Design;Creativity       June 20, 2018                 1.1   \n5               Art & Design      March 26, 2017                 1.0   \n6               Art & Design      April 26, 2018                 1.1   \n7               Art & Design       June 14, 2018            6.1.61.1   \n8               Art & Design  September 20, 2017               2.9.2   \n9    Art & Design;Creativity        July 3, 2018                 2.8   \n\n    Android Ver  \n0  4.0.3 and up  \n1  4.0.3 and up  \n2  4.0.3 and up  \n3    4.2 and up  \n4    4.4 and up  \n5    2.3 and up  \n6  4.0.3 and up  \n7    4.2 and up  \n8    3.0 and up  \n9  4.0.3 and up  ",
      "text/html": "<div>\n<style scoped>\n    .dataframe tbody tr th:only-of-type {\n        vertical-align: middle;\n    }\n\n    .dataframe tbody tr th {\n        vertical-align: top;\n    }\n\n    .dataframe thead th {\n        text-align: right;\n    }\n</style>\n<table border=\"1\" class=\"dataframe\">\n  <thead>\n    <tr style=\"text-align: right;\">\n      <th></th>\n      <th>App</th>\n      <th>Category</th>\n      <th>Rating</th>\n      <th>Reviews</th>\n      <th>Size</th>\n      <th>Installs</th>\n      <th>Type</th>\n      <th>Price</th>\n      <th>Content Rating</th>\n      <th>Genres</th>\n      <th>Last Updated</th>\n      <th>Current Ver</th>\n      <th>Android Ver</th>\n    </tr>\n  </thead>\n  <tbody>\n    <tr>\n      <th>0</th>\n      <td>Photo Editor &amp; Candy Camera &amp; Grid &amp; ScrapBook</td>\n      <td>ART_AND_DESIGN</td>\n      <td>4.1</td>\n      <td>159</td>\n      <td>19M</td>\n      <td>10,000+</td>\n      <td>Free</td>\n      <td>0</td>\n      <td>Everyone</td>\n      <td>Art &amp; Design</td>\n      <td>January 7, 2018</td>\n      <td>1.0.0</td>\n      <td>4.0.3 and up</td>\n    </tr>\n    <tr>\n      <th>1</th>\n      <td>Coloring book moana</td>\n      <td>ART_AND_DESIGN</td>\n      <td>3.9</td>\n      <td>967</td>\n      <td>14M</td>\n      <td>500,000+</td>\n      <td>Free</td>\n      <td>0</td>\n      <td>Everyone</td>\n      <td>Art &amp; Design;Pretend Play</td>\n      <td>January 15, 2018</td>\n      <td>2.0.0</td>\n      <td>4.0.3 and up</td>\n    </tr>\n    <tr>\n      <th>2</th>\n      <td>U Launcher Lite – FREE Live Cool Themes, Hide ...</td>\n      <td>ART_AND_DESIGN</td>\n      <td>4.7</td>\n      <td>87510</td>\n      <td>8.7M</td>\n      <td>5,000,000+</td>\n      <td>Free</td>\n      <td>0</td>\n      <td>Everyone</td>\n      <td>Art &amp; Design</td>\n      <td>August 1, 2018</td>\n      <td>1.2.4</td>\n      <td>4.0.3 and up</td>\n    </tr>\n    <tr>\n      <th>3</th>\n      <td>Sketch - Draw &amp; Paint</td>\n      <td>ART_AND_DESIGN</td>\n      <td>4.5</td>\n      <td>215644</td>\n      <td>25M</td>\n      <td>50,000,000+</td>\n      <td>Free</td>\n      <td>0</td>\n      <td>Teen</td>\n      <td>Art &amp; Design</td>\n      <td>June 8, 2018</td>\n      <td>Varies with device</td>\n      <td>4.2 and up</td>\n    </tr>\n    <tr>\n      <th>4</th>\n      <td>Pixel Draw - Number Art Coloring Book</td>\n      <td>ART_AND_DESIGN</td>\n      <td>4.3</td>\n      <td>967</td>\n      <td>2.8M</td>\n      <td>100,000+</td>\n      <td>Free</td>\n      <td>0</td>\n      <td>Everyone</td>\n      <td>Art &amp; Design;Creativity</td>\n      <td>June 20, 2018</td>\n      <td>1.1</td>\n      <td>4.4 and up</td>\n    </tr>\n    <tr>\n      <th>5</th>\n      <td>Paper flowers instructions</td>\n      <td>ART_AND_DESIGN</td>\n      <td>4.4</td>\n      <td>167</td>\n      <td>5.6M</td>\n      <td>50,000+</td>\n      <td>Free</td>\n      <td>0</td>\n      <td>Everyone</td>\n      <td>Art &amp; Design</td>\n      <td>March 26, 2017</td>\n      <td>1.0</td>\n      <td>2.3 and up</td>\n    </tr>\n    <tr>\n      <th>6</th>\n      <td>Smoke Effect Photo Maker - Smoke Editor</td>\n      <td>ART_AND_DESIGN</td>\n      <td>3.8</td>\n      <td>178</td>\n      <td>19M</td>\n      <td>50,000+</td>\n      <td>Free</td>\n      <td>0</td>\n      <td>Everyone</td>\n      <td>Art &amp; Design</td>\n      <td>April 26, 2018</td>\n      <td>1.1</td>\n      <td>4.0.3 and up</td>\n    </tr>\n    <tr>\n      <th>7</th>\n      <td>Infinite Painter</td>\n      <td>ART_AND_DESIGN</td>\n      <td>4.1</td>\n      <td>36815</td>\n      <td>29M</td>\n      <td>1,000,000+</td>\n      <td>Free</td>\n      <td>0</td>\n      <td>Everyone</td>\n      <td>Art &amp; Design</td>\n      <td>June 14, 2018</td>\n      <td>6.1.61.1</td>\n      <td>4.2 and up</td>\n    </tr>\n    <tr>\n      <th>8</th>\n      <td>Garden Coloring Book</td>\n      <td>ART_AND_DESIGN</td>\n      <td>4.4</td>\n      <td>13791</td>\n      <td>33M</td>\n      <td>1,000,000+</td>\n      <td>Free</td>\n      <td>0</td>\n      <td>Everyone</td>\n      <td>Art &amp; Design</td>\n      <td>September 20, 2017</td>\n      <td>2.9.2</td>\n      <td>3.0 and up</td>\n    </tr>\n    <tr>\n      <th>9</th>\n      <td>Kids Paint Free - Drawing Fun</td>\n      <td>ART_AND_DESIGN</td>\n      <td>4.7</td>\n      <td>121</td>\n      <td>3.1M</td>\n      <td>10,000+</td>\n      <td>Free</td>\n      <td>0</td>\n      <td>Everyone</td>\n      <td>Art &amp; Design;Creativity</td>\n      <td>July 3, 2018</td>\n      <td>2.8</td>\n      <td>4.0.3 and up</td>\n    </tr>\n  </tbody>\n</table>\n</div>"
     },
     "execution_count": 3,
     "metadata": {},
     "output_type": "execute_result"
    }
   ],
   "source": [
    "data.head(10)"
   ],
   "metadata": {
    "collapsed": false,
    "pycharm": {
     "name": "#%%\n"
    }
   }
  },
  {
   "cell_type": "code",
   "execution_count": 4,
   "outputs": [
    {
     "data": {
      "text/plain": "App                object\nCategory           object\nRating            float64\nReviews            object\nSize               object\nInstalls           object\nType               object\nPrice              object\nContent Rating     object\nGenres             object\nLast Updated       object\nCurrent Ver        object\nAndroid Ver        object\ndtype: object"
     },
     "execution_count": 4,
     "metadata": {},
     "output_type": "execute_result"
    }
   ],
   "source": [
    "data.dtypes"
   ],
   "metadata": {
    "collapsed": false,
    "pycharm": {
     "name": "#%%\n"
    }
   }
  },
  {
   "cell_type": "code",
   "execution_count": 5,
   "outputs": [
    {
     "data": {
      "text/plain": "                                                     App             Category  \\\n0         Photo Editor & Candy Camera & Grid & ScrapBook       ART_AND_DESIGN   \n1                                    Coloring book moana       ART_AND_DESIGN   \n2      U Launcher Lite – FREE Live Cool Themes, Hide ...       ART_AND_DESIGN   \n3                                  Sketch - Draw & Paint       ART_AND_DESIGN   \n4                  Pixel Draw - Number Art Coloring Book       ART_AND_DESIGN   \n...                                                  ...                  ...   \n10836                                   Sya9a Maroc - FR               FAMILY   \n10837                   Fr. Mike Schmitz Audio Teachings               FAMILY   \n10838                             Parkinson Exercices FR              MEDICAL   \n10839                      The SCP Foundation DB fr nn5n  BOOKS_AND_REFERENCE   \n10840      iHoroscope - 2018 Daily Horoscope & Astrology            LIFESTYLE   \n\n       Rating Reviews                Size     Installs  Type Price  \\\n0         4.1     159                 19M      10,000+  Free     0   \n1         3.9     967                 14M     500,000+  Free     0   \n2         4.7   87510                8.7M   5,000,000+  Free     0   \n3         4.5  215644                 25M  50,000,000+  Free     0   \n4         4.3     967                2.8M     100,000+  Free     0   \n...       ...     ...                 ...          ...   ...   ...   \n10836     4.5      38                 53M       5,000+  Free     0   \n10837     5.0       4                3.6M         100+  Free     0   \n10838     NaN       3                9.5M       1,000+  Free     0   \n10839     4.5     114  Varies with device       1,000+  Free     0   \n10840     4.5  398307                 19M  10,000,000+  Free     0   \n\n      Content Rating                     Genres      Last Updated  \\\n0           Everyone               Art & Design   January 7, 2018   \n1           Everyone  Art & Design;Pretend Play  January 15, 2018   \n2           Everyone               Art & Design    August 1, 2018   \n3               Teen               Art & Design      June 8, 2018   \n4           Everyone    Art & Design;Creativity     June 20, 2018   \n...              ...                        ...               ...   \n10836       Everyone                  Education     July 25, 2017   \n10837       Everyone                  Education      July 6, 2018   \n10838       Everyone                    Medical  January 20, 2017   \n10839     Mature 17+          Books & Reference  January 19, 2015   \n10840       Everyone                  Lifestyle     July 25, 2018   \n\n              Current Ver         Android Ver  \n0                   1.0.0        4.0.3 and up  \n1                   2.0.0        4.0.3 and up  \n2                   1.2.4        4.0.3 and up  \n3      Varies with device          4.2 and up  \n4                     1.1          4.4 and up  \n...                   ...                 ...  \n10836                1.48          4.1 and up  \n10837                 1.0          4.1 and up  \n10838                 1.0          2.2 and up  \n10839  Varies with device  Varies with device  \n10840  Varies with device  Varies with device  \n\n[10841 rows x 13 columns]",
      "text/html": "<div>\n<style scoped>\n    .dataframe tbody tr th:only-of-type {\n        vertical-align: middle;\n    }\n\n    .dataframe tbody tr th {\n        vertical-align: top;\n    }\n\n    .dataframe thead th {\n        text-align: right;\n    }\n</style>\n<table border=\"1\" class=\"dataframe\">\n  <thead>\n    <tr style=\"text-align: right;\">\n      <th></th>\n      <th>App</th>\n      <th>Category</th>\n      <th>Rating</th>\n      <th>Reviews</th>\n      <th>Size</th>\n      <th>Installs</th>\n      <th>Type</th>\n      <th>Price</th>\n      <th>Content Rating</th>\n      <th>Genres</th>\n      <th>Last Updated</th>\n      <th>Current Ver</th>\n      <th>Android Ver</th>\n    </tr>\n  </thead>\n  <tbody>\n    <tr>\n      <th>0</th>\n      <td>Photo Editor &amp; Candy Camera &amp; Grid &amp; ScrapBook</td>\n      <td>ART_AND_DESIGN</td>\n      <td>4.1</td>\n      <td>159</td>\n      <td>19M</td>\n      <td>10,000+</td>\n      <td>Free</td>\n      <td>0</td>\n      <td>Everyone</td>\n      <td>Art &amp; Design</td>\n      <td>January 7, 2018</td>\n      <td>1.0.0</td>\n      <td>4.0.3 and up</td>\n    </tr>\n    <tr>\n      <th>1</th>\n      <td>Coloring book moana</td>\n      <td>ART_AND_DESIGN</td>\n      <td>3.9</td>\n      <td>967</td>\n      <td>14M</td>\n      <td>500,000+</td>\n      <td>Free</td>\n      <td>0</td>\n      <td>Everyone</td>\n      <td>Art &amp; Design;Pretend Play</td>\n      <td>January 15, 2018</td>\n      <td>2.0.0</td>\n      <td>4.0.3 and up</td>\n    </tr>\n    <tr>\n      <th>2</th>\n      <td>U Launcher Lite – FREE Live Cool Themes, Hide ...</td>\n      <td>ART_AND_DESIGN</td>\n      <td>4.7</td>\n      <td>87510</td>\n      <td>8.7M</td>\n      <td>5,000,000+</td>\n      <td>Free</td>\n      <td>0</td>\n      <td>Everyone</td>\n      <td>Art &amp; Design</td>\n      <td>August 1, 2018</td>\n      <td>1.2.4</td>\n      <td>4.0.3 and up</td>\n    </tr>\n    <tr>\n      <th>3</th>\n      <td>Sketch - Draw &amp; Paint</td>\n      <td>ART_AND_DESIGN</td>\n      <td>4.5</td>\n      <td>215644</td>\n      <td>25M</td>\n      <td>50,000,000+</td>\n      <td>Free</td>\n      <td>0</td>\n      <td>Teen</td>\n      <td>Art &amp; Design</td>\n      <td>June 8, 2018</td>\n      <td>Varies with device</td>\n      <td>4.2 and up</td>\n    </tr>\n    <tr>\n      <th>4</th>\n      <td>Pixel Draw - Number Art Coloring Book</td>\n      <td>ART_AND_DESIGN</td>\n      <td>4.3</td>\n      <td>967</td>\n      <td>2.8M</td>\n      <td>100,000+</td>\n      <td>Free</td>\n      <td>0</td>\n      <td>Everyone</td>\n      <td>Art &amp; Design;Creativity</td>\n      <td>June 20, 2018</td>\n      <td>1.1</td>\n      <td>4.4 and up</td>\n    </tr>\n    <tr>\n      <th>...</th>\n      <td>...</td>\n      <td>...</td>\n      <td>...</td>\n      <td>...</td>\n      <td>...</td>\n      <td>...</td>\n      <td>...</td>\n      <td>...</td>\n      <td>...</td>\n      <td>...</td>\n      <td>...</td>\n      <td>...</td>\n      <td>...</td>\n    </tr>\n    <tr>\n      <th>10836</th>\n      <td>Sya9a Maroc - FR</td>\n      <td>FAMILY</td>\n      <td>4.5</td>\n      <td>38</td>\n      <td>53M</td>\n      <td>5,000+</td>\n      <td>Free</td>\n      <td>0</td>\n      <td>Everyone</td>\n      <td>Education</td>\n      <td>July 25, 2017</td>\n      <td>1.48</td>\n      <td>4.1 and up</td>\n    </tr>\n    <tr>\n      <th>10837</th>\n      <td>Fr. Mike Schmitz Audio Teachings</td>\n      <td>FAMILY</td>\n      <td>5.0</td>\n      <td>4</td>\n      <td>3.6M</td>\n      <td>100+</td>\n      <td>Free</td>\n      <td>0</td>\n      <td>Everyone</td>\n      <td>Education</td>\n      <td>July 6, 2018</td>\n      <td>1.0</td>\n      <td>4.1 and up</td>\n    </tr>\n    <tr>\n      <th>10838</th>\n      <td>Parkinson Exercices FR</td>\n      <td>MEDICAL</td>\n      <td>NaN</td>\n      <td>3</td>\n      <td>9.5M</td>\n      <td>1,000+</td>\n      <td>Free</td>\n      <td>0</td>\n      <td>Everyone</td>\n      <td>Medical</td>\n      <td>January 20, 2017</td>\n      <td>1.0</td>\n      <td>2.2 and up</td>\n    </tr>\n    <tr>\n      <th>10839</th>\n      <td>The SCP Foundation DB fr nn5n</td>\n      <td>BOOKS_AND_REFERENCE</td>\n      <td>4.5</td>\n      <td>114</td>\n      <td>Varies with device</td>\n      <td>1,000+</td>\n      <td>Free</td>\n      <td>0</td>\n      <td>Mature 17+</td>\n      <td>Books &amp; Reference</td>\n      <td>January 19, 2015</td>\n      <td>Varies with device</td>\n      <td>Varies with device</td>\n    </tr>\n    <tr>\n      <th>10840</th>\n      <td>iHoroscope - 2018 Daily Horoscope &amp; Astrology</td>\n      <td>LIFESTYLE</td>\n      <td>4.5</td>\n      <td>398307</td>\n      <td>19M</td>\n      <td>10,000,000+</td>\n      <td>Free</td>\n      <td>0</td>\n      <td>Everyone</td>\n      <td>Lifestyle</td>\n      <td>July 25, 2018</td>\n      <td>Varies with device</td>\n      <td>Varies with device</td>\n    </tr>\n  </tbody>\n</table>\n<p>10841 rows × 13 columns</p>\n</div>"
     },
     "execution_count": 5,
     "metadata": {},
     "output_type": "execute_result"
    }
   ],
   "source": [
    "data.rename(columns={'duration_ms':'duration'}, inplace=True)\n",
    "\n",
    "data"
   ],
   "metadata": {
    "collapsed": false,
    "pycharm": {
     "name": "#%%\n"
    }
   }
  },
  {
   "cell_type": "code",
   "execution_count": 6,
   "outputs": [
    {
     "data": {
      "text/plain": "count    9367.000000\nmean        4.193338\nstd         0.537431\nmin         1.000000\n25%         4.000000\n50%         4.300000\n75%         4.500000\nmax        19.000000\nName: Rating, dtype: float64"
     },
     "execution_count": 6,
     "metadata": {},
     "output_type": "execute_result"
    }
   ],
   "source": [
    "data.Rating.describe()"
   ],
   "metadata": {
    "collapsed": false,
    "pycharm": {
     "name": "#%%\n"
    }
   }
  },
  {
   "cell_type": "code",
   "execution_count": 7,
   "outputs": [
    {
     "data": {
      "text/plain": "App                  0\nCategory             0\nRating            1474\nReviews              0\nSize                 0\nInstalls             0\nType                 1\nPrice                0\nContent Rating       1\nGenres               0\nLast Updated         0\nCurrent Ver          8\nAndroid Ver          3\ndtype: int64"
     },
     "execution_count": 7,
     "metadata": {},
     "output_type": "execute_result"
    }
   ],
   "source": [
    "data.isnull().sum()"
   ],
   "metadata": {
    "collapsed": false,
    "pycharm": {
     "name": "#%%\n"
    }
   }
  },
  {
   "cell_type": "code",
   "execution_count": 8,
   "outputs": [
    {
     "data": {
      "text/plain": "0        4.1\n1        3.9\n2        4.7\n3        4.5\n4        4.3\n        ... \n10834    4.0\n10836    4.5\n10837    5.0\n10839    4.5\n10840    4.5\nName: Rating, Length: 9367, dtype: float64"
     },
     "execution_count": 8,
     "metadata": {},
     "output_type": "execute_result"
    }
   ],
   "source": [
    "data.Rating.dropna()"
   ],
   "metadata": {
    "collapsed": false,
    "pycharm": {
     "name": "#%%\n"
    }
   }
  },
  {
   "cell_type": "code",
   "execution_count": 9,
   "outputs": [],
   "source": [
    "data.dropna(subset=['Rating','Type','Content Rating','Current Ver','Android Ver'],inplace=True)"
   ],
   "metadata": {
    "collapsed": false,
    "pycharm": {
     "name": "#%%\n"
    }
   }
  },
  {
   "cell_type": "code",
   "execution_count": 10,
   "outputs": [
    {
     "data": {
      "text/plain": "App               0\nCategory          0\nRating            0\nReviews           0\nSize              0\nInstalls          0\nType              0\nPrice             0\nContent Rating    0\nGenres            0\nLast Updated      0\nCurrent Ver       0\nAndroid Ver       0\ndtype: int64"
     },
     "execution_count": 10,
     "metadata": {},
     "output_type": "execute_result"
    }
   ],
   "source": [
    "data.isnull().sum()"
   ],
   "metadata": {
    "collapsed": false,
    "pycharm": {
     "name": "#%%\n"
    }
   }
  },
  {
   "cell_type": "code",
   "execution_count": 11,
   "outputs": [
    {
     "data": {
      "text/plain": "            Rating\ncount  9360.000000\nmean      4.191838\nstd       0.515263\nmin       1.000000\n25%       4.000000\n50%       4.300000\n75%       4.500000\nmax       5.000000",
      "text/html": "<div>\n<style scoped>\n    .dataframe tbody tr th:only-of-type {\n        vertical-align: middle;\n    }\n\n    .dataframe tbody tr th {\n        vertical-align: top;\n    }\n\n    .dataframe thead th {\n        text-align: right;\n    }\n</style>\n<table border=\"1\" class=\"dataframe\">\n  <thead>\n    <tr style=\"text-align: right;\">\n      <th></th>\n      <th>Rating</th>\n    </tr>\n  </thead>\n  <tbody>\n    <tr>\n      <th>count</th>\n      <td>9360.000000</td>\n    </tr>\n    <tr>\n      <th>mean</th>\n      <td>4.191838</td>\n    </tr>\n    <tr>\n      <th>std</th>\n      <td>0.515263</td>\n    </tr>\n    <tr>\n      <th>min</th>\n      <td>1.000000</td>\n    </tr>\n    <tr>\n      <th>25%</th>\n      <td>4.000000</td>\n    </tr>\n    <tr>\n      <th>50%</th>\n      <td>4.300000</td>\n    </tr>\n    <tr>\n      <th>75%</th>\n      <td>4.500000</td>\n    </tr>\n    <tr>\n      <th>max</th>\n      <td>5.000000</td>\n    </tr>\n  </tbody>\n</table>\n</div>"
     },
     "execution_count": 11,
     "metadata": {},
     "output_type": "execute_result"
    }
   ],
   "source": [
    "data.describe()"
   ],
   "metadata": {
    "collapsed": false,
    "pycharm": {
     "name": "#%%\n"
    }
   }
  },
  {
   "cell_type": "code",
   "execution_count": 12,
   "outputs": [
    {
     "data": {
      "text/plain": "                                                     App             Category  \\\n0         Photo Editor & Candy Camera & Grid & ScrapBook       ART_AND_DESIGN   \n1                                    Coloring book moana       ART_AND_DESIGN   \n2      U Launcher Lite – FREE Live Cool Themes, Hide ...       ART_AND_DESIGN   \n3                                  Sketch - Draw & Paint       ART_AND_DESIGN   \n4                  Pixel Draw - Number Art Coloring Book       ART_AND_DESIGN   \n...                                                  ...                  ...   \n10834                                      FR Calculator               FAMILY   \n10836                                   Sya9a Maroc - FR               FAMILY   \n10837                   Fr. Mike Schmitz Audio Teachings               FAMILY   \n10839                      The SCP Foundation DB fr nn5n  BOOKS_AND_REFERENCE   \n10840      iHoroscope - 2018 Daily Horoscope & Astrology            LIFESTYLE   \n\n       Rating Reviews                Size     Installs  Type Price  \\\n0         4.1     159                 19M      10,000+  Free     0   \n1         3.9     967                 14M     500,000+  Free     0   \n2         4.7   87510                8.7M   5,000,000+  Free     0   \n3         4.5  215644                 25M  50,000,000+  Free     0   \n4         4.3     967                2.8M     100,000+  Free     0   \n...       ...     ...                 ...          ...   ...   ...   \n10834     4.0       7                2.6M         500+  Free     0   \n10836     4.5      38                 53M       5,000+  Free     0   \n10837     5.0       4                3.6M         100+  Free     0   \n10839     4.5     114  Varies with device       1,000+  Free     0   \n10840     4.5  398307                 19M  10,000,000+  Free     0   \n\n      Content Rating                     Genres      Last Updated  \\\n0           Everyone               Art & Design   January 7, 2018   \n1           Everyone  Art & Design;Pretend Play  January 15, 2018   \n2           Everyone               Art & Design    August 1, 2018   \n3               Teen               Art & Design      June 8, 2018   \n4           Everyone    Art & Design;Creativity     June 20, 2018   \n...              ...                        ...               ...   \n10834       Everyone                  Education     June 18, 2017   \n10836       Everyone                  Education     July 25, 2017   \n10837       Everyone                  Education      July 6, 2018   \n10839     Mature 17+          Books & Reference  January 19, 2015   \n10840       Everyone                  Lifestyle     July 25, 2018   \n\n              Current Ver         Android Ver  \n0                   1.0.0        4.0.3 and up  \n1                   2.0.0        4.0.3 and up  \n2                   1.2.4        4.0.3 and up  \n3      Varies with device          4.2 and up  \n4                     1.1          4.4 and up  \n...                   ...                 ...  \n10834               1.0.0          4.1 and up  \n10836                1.48          4.1 and up  \n10837                 1.0          4.1 and up  \n10839  Varies with device  Varies with device  \n10840  Varies with device  Varies with device  \n\n[9360 rows x 13 columns]",
      "text/html": "<div>\n<style scoped>\n    .dataframe tbody tr th:only-of-type {\n        vertical-align: middle;\n    }\n\n    .dataframe tbody tr th {\n        vertical-align: top;\n    }\n\n    .dataframe thead th {\n        text-align: right;\n    }\n</style>\n<table border=\"1\" class=\"dataframe\">\n  <thead>\n    <tr style=\"text-align: right;\">\n      <th></th>\n      <th>App</th>\n      <th>Category</th>\n      <th>Rating</th>\n      <th>Reviews</th>\n      <th>Size</th>\n      <th>Installs</th>\n      <th>Type</th>\n      <th>Price</th>\n      <th>Content Rating</th>\n      <th>Genres</th>\n      <th>Last Updated</th>\n      <th>Current Ver</th>\n      <th>Android Ver</th>\n    </tr>\n  </thead>\n  <tbody>\n    <tr>\n      <th>0</th>\n      <td>Photo Editor &amp; Candy Camera &amp; Grid &amp; ScrapBook</td>\n      <td>ART_AND_DESIGN</td>\n      <td>4.1</td>\n      <td>159</td>\n      <td>19M</td>\n      <td>10,000+</td>\n      <td>Free</td>\n      <td>0</td>\n      <td>Everyone</td>\n      <td>Art &amp; Design</td>\n      <td>January 7, 2018</td>\n      <td>1.0.0</td>\n      <td>4.0.3 and up</td>\n    </tr>\n    <tr>\n      <th>1</th>\n      <td>Coloring book moana</td>\n      <td>ART_AND_DESIGN</td>\n      <td>3.9</td>\n      <td>967</td>\n      <td>14M</td>\n      <td>500,000+</td>\n      <td>Free</td>\n      <td>0</td>\n      <td>Everyone</td>\n      <td>Art &amp; Design;Pretend Play</td>\n      <td>January 15, 2018</td>\n      <td>2.0.0</td>\n      <td>4.0.3 and up</td>\n    </tr>\n    <tr>\n      <th>2</th>\n      <td>U Launcher Lite – FREE Live Cool Themes, Hide ...</td>\n      <td>ART_AND_DESIGN</td>\n      <td>4.7</td>\n      <td>87510</td>\n      <td>8.7M</td>\n      <td>5,000,000+</td>\n      <td>Free</td>\n      <td>0</td>\n      <td>Everyone</td>\n      <td>Art &amp; Design</td>\n      <td>August 1, 2018</td>\n      <td>1.2.4</td>\n      <td>4.0.3 and up</td>\n    </tr>\n    <tr>\n      <th>3</th>\n      <td>Sketch - Draw &amp; Paint</td>\n      <td>ART_AND_DESIGN</td>\n      <td>4.5</td>\n      <td>215644</td>\n      <td>25M</td>\n      <td>50,000,000+</td>\n      <td>Free</td>\n      <td>0</td>\n      <td>Teen</td>\n      <td>Art &amp; Design</td>\n      <td>June 8, 2018</td>\n      <td>Varies with device</td>\n      <td>4.2 and up</td>\n    </tr>\n    <tr>\n      <th>4</th>\n      <td>Pixel Draw - Number Art Coloring Book</td>\n      <td>ART_AND_DESIGN</td>\n      <td>4.3</td>\n      <td>967</td>\n      <td>2.8M</td>\n      <td>100,000+</td>\n      <td>Free</td>\n      <td>0</td>\n      <td>Everyone</td>\n      <td>Art &amp; Design;Creativity</td>\n      <td>June 20, 2018</td>\n      <td>1.1</td>\n      <td>4.4 and up</td>\n    </tr>\n    <tr>\n      <th>...</th>\n      <td>...</td>\n      <td>...</td>\n      <td>...</td>\n      <td>...</td>\n      <td>...</td>\n      <td>...</td>\n      <td>...</td>\n      <td>...</td>\n      <td>...</td>\n      <td>...</td>\n      <td>...</td>\n      <td>...</td>\n      <td>...</td>\n    </tr>\n    <tr>\n      <th>10834</th>\n      <td>FR Calculator</td>\n      <td>FAMILY</td>\n      <td>4.0</td>\n      <td>7</td>\n      <td>2.6M</td>\n      <td>500+</td>\n      <td>Free</td>\n      <td>0</td>\n      <td>Everyone</td>\n      <td>Education</td>\n      <td>June 18, 2017</td>\n      <td>1.0.0</td>\n      <td>4.1 and up</td>\n    </tr>\n    <tr>\n      <th>10836</th>\n      <td>Sya9a Maroc - FR</td>\n      <td>FAMILY</td>\n      <td>4.5</td>\n      <td>38</td>\n      <td>53M</td>\n      <td>5,000+</td>\n      <td>Free</td>\n      <td>0</td>\n      <td>Everyone</td>\n      <td>Education</td>\n      <td>July 25, 2017</td>\n      <td>1.48</td>\n      <td>4.1 and up</td>\n    </tr>\n    <tr>\n      <th>10837</th>\n      <td>Fr. Mike Schmitz Audio Teachings</td>\n      <td>FAMILY</td>\n      <td>5.0</td>\n      <td>4</td>\n      <td>3.6M</td>\n      <td>100+</td>\n      <td>Free</td>\n      <td>0</td>\n      <td>Everyone</td>\n      <td>Education</td>\n      <td>July 6, 2018</td>\n      <td>1.0</td>\n      <td>4.1 and up</td>\n    </tr>\n    <tr>\n      <th>10839</th>\n      <td>The SCP Foundation DB fr nn5n</td>\n      <td>BOOKS_AND_REFERENCE</td>\n      <td>4.5</td>\n      <td>114</td>\n      <td>Varies with device</td>\n      <td>1,000+</td>\n      <td>Free</td>\n      <td>0</td>\n      <td>Mature 17+</td>\n      <td>Books &amp; Reference</td>\n      <td>January 19, 2015</td>\n      <td>Varies with device</td>\n      <td>Varies with device</td>\n    </tr>\n    <tr>\n      <th>10840</th>\n      <td>iHoroscope - 2018 Daily Horoscope &amp; Astrology</td>\n      <td>LIFESTYLE</td>\n      <td>4.5</td>\n      <td>398307</td>\n      <td>19M</td>\n      <td>10,000,000+</td>\n      <td>Free</td>\n      <td>0</td>\n      <td>Everyone</td>\n      <td>Lifestyle</td>\n      <td>July 25, 2018</td>\n      <td>Varies with device</td>\n      <td>Varies with device</td>\n    </tr>\n  </tbody>\n</table>\n<p>9360 rows × 13 columns</p>\n</div>"
     },
     "execution_count": 12,
     "metadata": {},
     "output_type": "execute_result"
    }
   ],
   "source": [
    "data"
   ],
   "metadata": {
    "collapsed": false,
    "pycharm": {
     "name": "#%%\n"
    }
   }
  },
  {
   "cell_type": "code",
   "execution_count": 13,
   "outputs": [
    {
     "data": {
      "text/plain": "(9360, 13)"
     },
     "execution_count": 13,
     "metadata": {},
     "output_type": "execute_result"
    }
   ],
   "source": [
    "data.shape"
   ],
   "metadata": {
    "collapsed": false,
    "pycharm": {
     "name": "#%%\n"
    }
   }
  },
  {
   "cell_type": "code",
   "execution_count": 14,
   "outputs": [
    {
     "name": "stdout",
     "output_type": "stream",
     "text": [
      "<class 'pandas.core.frame.DataFrame'>\n",
      "Int64Index: 9360 entries, 0 to 10840\n",
      "Data columns (total 13 columns):\n",
      " #   Column          Non-Null Count  Dtype  \n",
      "---  ------          --------------  -----  \n",
      " 0   App             9360 non-null   object \n",
      " 1   Category        9360 non-null   object \n",
      " 2   Rating          9360 non-null   float64\n",
      " 3   Reviews         9360 non-null   object \n",
      " 4   Size            9360 non-null   object \n",
      " 5   Installs        9360 non-null   object \n",
      " 6   Type            9360 non-null   object \n",
      " 7   Price           9360 non-null   object \n",
      " 8   Content Rating  9360 non-null   object \n",
      " 9   Genres          9360 non-null   object \n",
      " 10  Last Updated    9360 non-null   object \n",
      " 11  Current Ver     9360 non-null   object \n",
      " 12  Android Ver     9360 non-null   object \n",
      "dtypes: float64(1), object(12)\n",
      "memory usage: 1023.8+ KB\n"
     ]
    }
   ],
   "source": [
    "data.info()"
   ],
   "metadata": {
    "collapsed": false,
    "pycharm": {
     "name": "#%%\n"
    }
   }
  },
  {
   "cell_type": "code",
   "execution_count": 15,
   "outputs": [
    {
     "data": {
      "text/plain": "39"
     },
     "execution_count": 15,
     "metadata": {},
     "output_type": "execute_result"
    }
   ],
   "source": [
    "data.Rating.nunique()"
   ],
   "metadata": {
    "collapsed": false,
    "pycharm": {
     "name": "#%%\n"
    }
   }
  },
  {
   "cell_type": "code",
   "execution_count": 16,
   "outputs": [
    {
     "data": {
      "text/plain": "                                                     App             Category  \\\n0         Photo Editor & Candy Camera & Grid & ScrapBook       ART_AND_DESIGN   \n1                                    Coloring book moana       ART_AND_DESIGN   \n2      U Launcher Lite – FREE Live Cool Themes, Hide ...       ART_AND_DESIGN   \n3                                  Sketch - Draw & Paint       ART_AND_DESIGN   \n4                  Pixel Draw - Number Art Coloring Book       ART_AND_DESIGN   \n...                                                  ...                  ...   \n10834                                      FR Calculator               FAMILY   \n10836                                   Sya9a Maroc - FR               FAMILY   \n10837                   Fr. Mike Schmitz Audio Teachings               FAMILY   \n10839                      The SCP Foundation DB fr nn5n  BOOKS_AND_REFERENCE   \n10840      iHoroscope - 2018 Daily Horoscope & Astrology            LIFESTYLE   \n\n       Rating Reviews                Size     Installs  Type Price  \\\n0         4.1     159                 19M      10,000+  Free     0   \n1         3.9     967                 14M     500,000+  Free     0   \n2         4.7   87510                8.7M   5,000,000+  Free     0   \n3         4.5  215644                 25M  50,000,000+  Free     0   \n4         4.3     967                2.8M     100,000+  Free     0   \n...       ...     ...                 ...          ...   ...   ...   \n10834     4.0       7                2.6M         500+  Free     0   \n10836     4.5      38                 53M       5,000+  Free     0   \n10837     5.0       4                3.6M         100+  Free     0   \n10839     4.5     114  Varies with device       1,000+  Free     0   \n10840     4.5  398307                 19M  10,000,000+  Free     0   \n\n      Content Rating                     Genres      Last Updated  \\\n0           Everyone               Art & Design   January 7, 2018   \n1           Everyone  Art & Design;Pretend Play  January 15, 2018   \n2           Everyone               Art & Design    August 1, 2018   \n3               Teen               Art & Design      June 8, 2018   \n4           Everyone    Art & Design;Creativity     June 20, 2018   \n...              ...                        ...               ...   \n10834       Everyone                  Education     June 18, 2017   \n10836       Everyone                  Education     July 25, 2017   \n10837       Everyone                  Education      July 6, 2018   \n10839     Mature 17+          Books & Reference  January 19, 2015   \n10840       Everyone                  Lifestyle     July 25, 2018   \n\n              Current Ver         Android Ver  \n0                   1.0.0        4.0.3 and up  \n1                   2.0.0        4.0.3 and up  \n2                   1.2.4        4.0.3 and up  \n3      Varies with device          4.2 and up  \n4                     1.1          4.4 and up  \n...                   ...                 ...  \n10834               1.0.0          4.1 and up  \n10836                1.48          4.1 and up  \n10837                 1.0          4.1 and up  \n10839  Varies with device  Varies with device  \n10840  Varies with device  Varies with device  \n\n[9360 rows x 13 columns]",
      "text/html": "<div>\n<style scoped>\n    .dataframe tbody tr th:only-of-type {\n        vertical-align: middle;\n    }\n\n    .dataframe tbody tr th {\n        vertical-align: top;\n    }\n\n    .dataframe thead th {\n        text-align: right;\n    }\n</style>\n<table border=\"1\" class=\"dataframe\">\n  <thead>\n    <tr style=\"text-align: right;\">\n      <th></th>\n      <th>App</th>\n      <th>Category</th>\n      <th>Rating</th>\n      <th>Reviews</th>\n      <th>Size</th>\n      <th>Installs</th>\n      <th>Type</th>\n      <th>Price</th>\n      <th>Content Rating</th>\n      <th>Genres</th>\n      <th>Last Updated</th>\n      <th>Current Ver</th>\n      <th>Android Ver</th>\n    </tr>\n  </thead>\n  <tbody>\n    <tr>\n      <th>0</th>\n      <td>Photo Editor &amp; Candy Camera &amp; Grid &amp; ScrapBook</td>\n      <td>ART_AND_DESIGN</td>\n      <td>4.1</td>\n      <td>159</td>\n      <td>19M</td>\n      <td>10,000+</td>\n      <td>Free</td>\n      <td>0</td>\n      <td>Everyone</td>\n      <td>Art &amp; Design</td>\n      <td>January 7, 2018</td>\n      <td>1.0.0</td>\n      <td>4.0.3 and up</td>\n    </tr>\n    <tr>\n      <th>1</th>\n      <td>Coloring book moana</td>\n      <td>ART_AND_DESIGN</td>\n      <td>3.9</td>\n      <td>967</td>\n      <td>14M</td>\n      <td>500,000+</td>\n      <td>Free</td>\n      <td>0</td>\n      <td>Everyone</td>\n      <td>Art &amp; Design;Pretend Play</td>\n      <td>January 15, 2018</td>\n      <td>2.0.0</td>\n      <td>4.0.3 and up</td>\n    </tr>\n    <tr>\n      <th>2</th>\n      <td>U Launcher Lite – FREE Live Cool Themes, Hide ...</td>\n      <td>ART_AND_DESIGN</td>\n      <td>4.7</td>\n      <td>87510</td>\n      <td>8.7M</td>\n      <td>5,000,000+</td>\n      <td>Free</td>\n      <td>0</td>\n      <td>Everyone</td>\n      <td>Art &amp; Design</td>\n      <td>August 1, 2018</td>\n      <td>1.2.4</td>\n      <td>4.0.3 and up</td>\n    </tr>\n    <tr>\n      <th>3</th>\n      <td>Sketch - Draw &amp; Paint</td>\n      <td>ART_AND_DESIGN</td>\n      <td>4.5</td>\n      <td>215644</td>\n      <td>25M</td>\n      <td>50,000,000+</td>\n      <td>Free</td>\n      <td>0</td>\n      <td>Teen</td>\n      <td>Art &amp; Design</td>\n      <td>June 8, 2018</td>\n      <td>Varies with device</td>\n      <td>4.2 and up</td>\n    </tr>\n    <tr>\n      <th>4</th>\n      <td>Pixel Draw - Number Art Coloring Book</td>\n      <td>ART_AND_DESIGN</td>\n      <td>4.3</td>\n      <td>967</td>\n      <td>2.8M</td>\n      <td>100,000+</td>\n      <td>Free</td>\n      <td>0</td>\n      <td>Everyone</td>\n      <td>Art &amp; Design;Creativity</td>\n      <td>June 20, 2018</td>\n      <td>1.1</td>\n      <td>4.4 and up</td>\n    </tr>\n    <tr>\n      <th>...</th>\n      <td>...</td>\n      <td>...</td>\n      <td>...</td>\n      <td>...</td>\n      <td>...</td>\n      <td>...</td>\n      <td>...</td>\n      <td>...</td>\n      <td>...</td>\n      <td>...</td>\n      <td>...</td>\n      <td>...</td>\n      <td>...</td>\n    </tr>\n    <tr>\n      <th>10834</th>\n      <td>FR Calculator</td>\n      <td>FAMILY</td>\n      <td>4.0</td>\n      <td>7</td>\n      <td>2.6M</td>\n      <td>500+</td>\n      <td>Free</td>\n      <td>0</td>\n      <td>Everyone</td>\n      <td>Education</td>\n      <td>June 18, 2017</td>\n      <td>1.0.0</td>\n      <td>4.1 and up</td>\n    </tr>\n    <tr>\n      <th>10836</th>\n      <td>Sya9a Maroc - FR</td>\n      <td>FAMILY</td>\n      <td>4.5</td>\n      <td>38</td>\n      <td>53M</td>\n      <td>5,000+</td>\n      <td>Free</td>\n      <td>0</td>\n      <td>Everyone</td>\n      <td>Education</td>\n      <td>July 25, 2017</td>\n      <td>1.48</td>\n      <td>4.1 and up</td>\n    </tr>\n    <tr>\n      <th>10837</th>\n      <td>Fr. Mike Schmitz Audio Teachings</td>\n      <td>FAMILY</td>\n      <td>5.0</td>\n      <td>4</td>\n      <td>3.6M</td>\n      <td>100+</td>\n      <td>Free</td>\n      <td>0</td>\n      <td>Everyone</td>\n      <td>Education</td>\n      <td>July 6, 2018</td>\n      <td>1.0</td>\n      <td>4.1 and up</td>\n    </tr>\n    <tr>\n      <th>10839</th>\n      <td>The SCP Foundation DB fr nn5n</td>\n      <td>BOOKS_AND_REFERENCE</td>\n      <td>4.5</td>\n      <td>114</td>\n      <td>Varies with device</td>\n      <td>1,000+</td>\n      <td>Free</td>\n      <td>0</td>\n      <td>Mature 17+</td>\n      <td>Books &amp; Reference</td>\n      <td>January 19, 2015</td>\n      <td>Varies with device</td>\n      <td>Varies with device</td>\n    </tr>\n    <tr>\n      <th>10840</th>\n      <td>iHoroscope - 2018 Daily Horoscope &amp; Astrology</td>\n      <td>LIFESTYLE</td>\n      <td>4.5</td>\n      <td>398307</td>\n      <td>19M</td>\n      <td>10,000,000+</td>\n      <td>Free</td>\n      <td>0</td>\n      <td>Everyone</td>\n      <td>Lifestyle</td>\n      <td>July 25, 2018</td>\n      <td>Varies with device</td>\n      <td>Varies with device</td>\n    </tr>\n  </tbody>\n</table>\n<p>9360 rows × 13 columns</p>\n</div>"
     },
     "execution_count": 16,
     "metadata": {},
     "output_type": "execute_result"
    }
   ],
   "source": [
    "data"
   ],
   "metadata": {
    "collapsed": false,
    "pycharm": {
     "name": "#%%\n"
    }
   }
  },
  {
   "cell_type": "code",
   "execution_count": 17,
   "outputs": [
    {
     "data": {
      "text/plain": "                                                               Category  \\\nApp                                                                       \nPhoto Editor & Candy Camera & Grid & ScrapBook           ART_AND_DESIGN   \nColoring book moana                                      ART_AND_DESIGN   \nU Launcher Lite – FREE Live Cool Themes, Hide Apps       ART_AND_DESIGN   \nSketch - Draw & Paint                                    ART_AND_DESIGN   \nPixel Draw - Number Art Coloring Book                    ART_AND_DESIGN   \n...                                                                 ...   \nFR Calculator                                                    FAMILY   \nSya9a Maroc - FR                                                 FAMILY   \nFr. Mike Schmitz Audio Teachings                                 FAMILY   \nThe SCP Foundation DB fr nn5n                       BOOKS_AND_REFERENCE   \niHoroscope - 2018 Daily Horoscope & Astrology                 LIFESTYLE   \n\n                                                    Rating Reviews  \\\nApp                                                                  \nPhoto Editor & Candy Camera & Grid & ScrapBook         4.1     159   \nColoring book moana                                    3.9     967   \nU Launcher Lite – FREE Live Cool Themes, Hide Apps     4.7   87510   \nSketch - Draw & Paint                                  4.5  215644   \nPixel Draw - Number Art Coloring Book                  4.3     967   \n...                                                    ...     ...   \nFR Calculator                                          4.0       7   \nSya9a Maroc - FR                                       4.5      38   \nFr. Mike Schmitz Audio Teachings                       5.0       4   \nThe SCP Foundation DB fr nn5n                          4.5     114   \niHoroscope - 2018 Daily Horoscope & Astrology          4.5  398307   \n\n                                                                  Size  \\\nApp                                                                      \nPhoto Editor & Candy Camera & Grid & ScrapBook                     19M   \nColoring book moana                                                14M   \nU Launcher Lite – FREE Live Cool Themes, Hide Apps                8.7M   \nSketch - Draw & Paint                                              25M   \nPixel Draw - Number Art Coloring Book                             2.8M   \n...                                                                ...   \nFR Calculator                                                     2.6M   \nSya9a Maroc - FR                                                   53M   \nFr. Mike Schmitz Audio Teachings                                  3.6M   \nThe SCP Foundation DB fr nn5n                       Varies with device   \niHoroscope - 2018 Daily Horoscope & Astrology                      19M   \n\n                                                       Installs  Type Price  \\\nApp                                                                           \nPhoto Editor & Candy Camera & Grid & ScrapBook          10,000+  Free     0   \nColoring book moana                                    500,000+  Free     0   \nU Launcher Lite – FREE Live Cool Themes, Hide Apps   5,000,000+  Free     0   \nSketch - Draw & Paint                               50,000,000+  Free     0   \nPixel Draw - Number Art Coloring Book                  100,000+  Free     0   \n...                                                         ...   ...   ...   \nFR Calculator                                              500+  Free     0   \nSya9a Maroc - FR                                         5,000+  Free     0   \nFr. Mike Schmitz Audio Teachings                           100+  Free     0   \nThe SCP Foundation DB fr nn5n                            1,000+  Free     0   \niHoroscope - 2018 Daily Horoscope & Astrology       10,000,000+  Free     0   \n\n                                                   Content Rating  \\\nApp                                                                 \nPhoto Editor & Candy Camera & Grid & ScrapBook           Everyone   \nColoring book moana                                      Everyone   \nU Launcher Lite – FREE Live Cool Themes, Hide Apps       Everyone   \nSketch - Draw & Paint                                        Teen   \nPixel Draw - Number Art Coloring Book                    Everyone   \n...                                                           ...   \nFR Calculator                                            Everyone   \nSya9a Maroc - FR                                         Everyone   \nFr. Mike Schmitz Audio Teachings                         Everyone   \nThe SCP Foundation DB fr nn5n                          Mature 17+   \niHoroscope - 2018 Daily Horoscope & Astrology            Everyone   \n\n                                                                       Genres  \\\nApp                                                                             \nPhoto Editor & Candy Camera & Grid & ScrapBook                   Art & Design   \nColoring book moana                                 Art & Design;Pretend Play   \nU Launcher Lite – FREE Live Cool Themes, Hide Apps               Art & Design   \nSketch - Draw & Paint                                            Art & Design   \nPixel Draw - Number Art Coloring Book                 Art & Design;Creativity   \n...                                                                       ...   \nFR Calculator                                                       Education   \nSya9a Maroc - FR                                                    Education   \nFr. Mike Schmitz Audio Teachings                                    Education   \nThe SCP Foundation DB fr nn5n                               Books & Reference   \niHoroscope - 2018 Daily Horoscope & Astrology                       Lifestyle   \n\n                                                        Last Updated  \\\nApp                                                                    \nPhoto Editor & Candy Camera & Grid & ScrapBook       January 7, 2018   \nColoring book moana                                 January 15, 2018   \nU Launcher Lite – FREE Live Cool Themes, Hide Apps    August 1, 2018   \nSketch - Draw & Paint                                   June 8, 2018   \nPixel Draw - Number Art Coloring Book                  June 20, 2018   \n...                                                              ...   \nFR Calculator                                          June 18, 2017   \nSya9a Maroc - FR                                       July 25, 2017   \nFr. Mike Schmitz Audio Teachings                        July 6, 2018   \nThe SCP Foundation DB fr nn5n                       January 19, 2015   \niHoroscope - 2018 Daily Horoscope & Astrology          July 25, 2018   \n\n                                                           Current Ver  \\\nApp                                                                      \nPhoto Editor & Candy Camera & Grid & ScrapBook                   1.0.0   \nColoring book moana                                              2.0.0   \nU Launcher Lite – FREE Live Cool Themes, Hide Apps               1.2.4   \nSketch - Draw & Paint                               Varies with device   \nPixel Draw - Number Art Coloring Book                              1.1   \n...                                                                ...   \nFR Calculator                                                    1.0.0   \nSya9a Maroc - FR                                                  1.48   \nFr. Mike Schmitz Audio Teachings                                   1.0   \nThe SCP Foundation DB fr nn5n                       Varies with device   \niHoroscope - 2018 Daily Horoscope & Astrology       Varies with device   \n\n                                                           Android Ver  \nApp                                                                     \nPhoto Editor & Candy Camera & Grid & ScrapBook            4.0.3 and up  \nColoring book moana                                       4.0.3 and up  \nU Launcher Lite – FREE Live Cool Themes, Hide Apps        4.0.3 and up  \nSketch - Draw & Paint                                       4.2 and up  \nPixel Draw - Number Art Coloring Book                       4.4 and up  \n...                                                                ...  \nFR Calculator                                               4.1 and up  \nSya9a Maroc - FR                                            4.1 and up  \nFr. Mike Schmitz Audio Teachings                            4.1 and up  \nThe SCP Foundation DB fr nn5n                       Varies with device  \niHoroscope - 2018 Daily Horoscope & Astrology       Varies with device  \n\n[9360 rows x 12 columns]",
      "text/html": "<div>\n<style scoped>\n    .dataframe tbody tr th:only-of-type {\n        vertical-align: middle;\n    }\n\n    .dataframe tbody tr th {\n        vertical-align: top;\n    }\n\n    .dataframe thead th {\n        text-align: right;\n    }\n</style>\n<table border=\"1\" class=\"dataframe\">\n  <thead>\n    <tr style=\"text-align: right;\">\n      <th></th>\n      <th>Category</th>\n      <th>Rating</th>\n      <th>Reviews</th>\n      <th>Size</th>\n      <th>Installs</th>\n      <th>Type</th>\n      <th>Price</th>\n      <th>Content Rating</th>\n      <th>Genres</th>\n      <th>Last Updated</th>\n      <th>Current Ver</th>\n      <th>Android Ver</th>\n    </tr>\n    <tr>\n      <th>App</th>\n      <th></th>\n      <th></th>\n      <th></th>\n      <th></th>\n      <th></th>\n      <th></th>\n      <th></th>\n      <th></th>\n      <th></th>\n      <th></th>\n      <th></th>\n      <th></th>\n    </tr>\n  </thead>\n  <tbody>\n    <tr>\n      <th>Photo Editor &amp; Candy Camera &amp; Grid &amp; ScrapBook</th>\n      <td>ART_AND_DESIGN</td>\n      <td>4.1</td>\n      <td>159</td>\n      <td>19M</td>\n      <td>10,000+</td>\n      <td>Free</td>\n      <td>0</td>\n      <td>Everyone</td>\n      <td>Art &amp; Design</td>\n      <td>January 7, 2018</td>\n      <td>1.0.0</td>\n      <td>4.0.3 and up</td>\n    </tr>\n    <tr>\n      <th>Coloring book moana</th>\n      <td>ART_AND_DESIGN</td>\n      <td>3.9</td>\n      <td>967</td>\n      <td>14M</td>\n      <td>500,000+</td>\n      <td>Free</td>\n      <td>0</td>\n      <td>Everyone</td>\n      <td>Art &amp; Design;Pretend Play</td>\n      <td>January 15, 2018</td>\n      <td>2.0.0</td>\n      <td>4.0.3 and up</td>\n    </tr>\n    <tr>\n      <th>U Launcher Lite – FREE Live Cool Themes, Hide Apps</th>\n      <td>ART_AND_DESIGN</td>\n      <td>4.7</td>\n      <td>87510</td>\n      <td>8.7M</td>\n      <td>5,000,000+</td>\n      <td>Free</td>\n      <td>0</td>\n      <td>Everyone</td>\n      <td>Art &amp; Design</td>\n      <td>August 1, 2018</td>\n      <td>1.2.4</td>\n      <td>4.0.3 and up</td>\n    </tr>\n    <tr>\n      <th>Sketch - Draw &amp; Paint</th>\n      <td>ART_AND_DESIGN</td>\n      <td>4.5</td>\n      <td>215644</td>\n      <td>25M</td>\n      <td>50,000,000+</td>\n      <td>Free</td>\n      <td>0</td>\n      <td>Teen</td>\n      <td>Art &amp; Design</td>\n      <td>June 8, 2018</td>\n      <td>Varies with device</td>\n      <td>4.2 and up</td>\n    </tr>\n    <tr>\n      <th>Pixel Draw - Number Art Coloring Book</th>\n      <td>ART_AND_DESIGN</td>\n      <td>4.3</td>\n      <td>967</td>\n      <td>2.8M</td>\n      <td>100,000+</td>\n      <td>Free</td>\n      <td>0</td>\n      <td>Everyone</td>\n      <td>Art &amp; Design;Creativity</td>\n      <td>June 20, 2018</td>\n      <td>1.1</td>\n      <td>4.4 and up</td>\n    </tr>\n    <tr>\n      <th>...</th>\n      <td>...</td>\n      <td>...</td>\n      <td>...</td>\n      <td>...</td>\n      <td>...</td>\n      <td>...</td>\n      <td>...</td>\n      <td>...</td>\n      <td>...</td>\n      <td>...</td>\n      <td>...</td>\n      <td>...</td>\n    </tr>\n    <tr>\n      <th>FR Calculator</th>\n      <td>FAMILY</td>\n      <td>4.0</td>\n      <td>7</td>\n      <td>2.6M</td>\n      <td>500+</td>\n      <td>Free</td>\n      <td>0</td>\n      <td>Everyone</td>\n      <td>Education</td>\n      <td>June 18, 2017</td>\n      <td>1.0.0</td>\n      <td>4.1 and up</td>\n    </tr>\n    <tr>\n      <th>Sya9a Maroc - FR</th>\n      <td>FAMILY</td>\n      <td>4.5</td>\n      <td>38</td>\n      <td>53M</td>\n      <td>5,000+</td>\n      <td>Free</td>\n      <td>0</td>\n      <td>Everyone</td>\n      <td>Education</td>\n      <td>July 25, 2017</td>\n      <td>1.48</td>\n      <td>4.1 and up</td>\n    </tr>\n    <tr>\n      <th>Fr. Mike Schmitz Audio Teachings</th>\n      <td>FAMILY</td>\n      <td>5.0</td>\n      <td>4</td>\n      <td>3.6M</td>\n      <td>100+</td>\n      <td>Free</td>\n      <td>0</td>\n      <td>Everyone</td>\n      <td>Education</td>\n      <td>July 6, 2018</td>\n      <td>1.0</td>\n      <td>4.1 and up</td>\n    </tr>\n    <tr>\n      <th>The SCP Foundation DB fr nn5n</th>\n      <td>BOOKS_AND_REFERENCE</td>\n      <td>4.5</td>\n      <td>114</td>\n      <td>Varies with device</td>\n      <td>1,000+</td>\n      <td>Free</td>\n      <td>0</td>\n      <td>Mature 17+</td>\n      <td>Books &amp; Reference</td>\n      <td>January 19, 2015</td>\n      <td>Varies with device</td>\n      <td>Varies with device</td>\n    </tr>\n    <tr>\n      <th>iHoroscope - 2018 Daily Horoscope &amp; Astrology</th>\n      <td>LIFESTYLE</td>\n      <td>4.5</td>\n      <td>398307</td>\n      <td>19M</td>\n      <td>10,000,000+</td>\n      <td>Free</td>\n      <td>0</td>\n      <td>Everyone</td>\n      <td>Lifestyle</td>\n      <td>July 25, 2018</td>\n      <td>Varies with device</td>\n      <td>Varies with device</td>\n    </tr>\n  </tbody>\n</table>\n<p>9360 rows × 12 columns</p>\n</div>"
     },
     "execution_count": 17,
     "metadata": {},
     "output_type": "execute_result"
    }
   ],
   "source": [
    "data.set_index(\"App\")"
   ],
   "metadata": {
    "collapsed": false,
    "pycharm": {
     "name": "#%%\n"
    }
   }
  },
  {
   "cell_type": "code",
   "execution_count": 22,
   "outputs": [
    {
     "data": {
      "text/plain": "                                                 App            Category  \\\n234    TurboScan: scan documents and receipts in PDF            BUSINESS   \n235                   Tiny Scanner Pro: PDF Doc Scan            BUSINESS   \n290    TurboScan: scan documents and receipts in PDF            BUSINESS   \n291                   Tiny Scanner Pro: PDF Doc Scan            BUSINESS   \n427                               Puffin Browser Pro       COMMUNICATION   \n...                                              ...                 ...   \n10690                                       FO Bixby     PERSONALIZATION   \n10697                                        Mu.F.O.                GAME   \n10760                                Fast Tract Diet  HEALTH_AND_FITNESS   \n10782                        Trine 2: Complete Story                GAME   \n10785                                   sugar, sugar              FAMILY   \n\n       Rating Reviews                Size  Installs  Type   Price  \\\n234       4.7   11442                6.8M  100,000+  Paid   $4.99   \n235       4.8   10295                 39M  100,000+  Paid   $4.99   \n290       4.7   11442                6.8M  100,000+  Paid   $4.99   \n291       4.8   10295                 39M  100,000+  Paid   $4.99   \n427       4.0   18247  Varies with device  100,000+  Paid   $3.99   \n...       ...     ...                 ...       ...   ...     ...   \n10690     5.0       5                861k      100+  Paid   $0.99   \n10697     5.0       2                 16M        1+  Paid   $0.99   \n10760     4.4      35                2.4M    1,000+  Paid   $7.99   \n10782     3.8     252                 11M   10,000+  Paid  $16.99   \n10785     4.2    1405                9.5M   10,000+  Paid   $1.20   \n\n      Content Rating            Genres       Last Updated  Current Ver  \\\n234         Everyone          Business     March 25, 2018        1.5.2   \n235         Everyone          Business     April 11, 2017        3.4.6   \n290         Everyone          Business     March 25, 2018        1.5.2   \n291         Everyone          Business     April 11, 2017        3.4.6   \n427         Everyone     Communication       July 5, 2018  7.5.3.20547   \n...              ...               ...                ...          ...   \n10690       Everyone   Personalization     April 25, 2018          0.2   \n10697       Everyone            Arcade      March 3, 2017          1.0   \n10760       Everyone  Health & Fitness     August 8, 2018        1.9.3   \n10782           Teen            Action  February 27, 2015         2.22   \n10785       Everyone            Puzzle       June 5, 2018          2.7   \n\n      Android Ver  \n234    4.0 and up  \n235    3.0 and up  \n290    4.0 and up  \n291    3.0 and up  \n427    4.1 and up  \n...           ...  \n10690  7.0 and up  \n10697  2.3 and up  \n10760  4.2 and up  \n10782  5.0 and up  \n10785  2.3 and up  \n\n[645 rows x 13 columns]",
      "text/html": "<div>\n<style scoped>\n    .dataframe tbody tr th:only-of-type {\n        vertical-align: middle;\n    }\n\n    .dataframe tbody tr th {\n        vertical-align: top;\n    }\n\n    .dataframe thead th {\n        text-align: right;\n    }\n</style>\n<table border=\"1\" class=\"dataframe\">\n  <thead>\n    <tr style=\"text-align: right;\">\n      <th></th>\n      <th>App</th>\n      <th>Category</th>\n      <th>Rating</th>\n      <th>Reviews</th>\n      <th>Size</th>\n      <th>Installs</th>\n      <th>Type</th>\n      <th>Price</th>\n      <th>Content Rating</th>\n      <th>Genres</th>\n      <th>Last Updated</th>\n      <th>Current Ver</th>\n      <th>Android Ver</th>\n    </tr>\n  </thead>\n  <tbody>\n    <tr>\n      <th>234</th>\n      <td>TurboScan: scan documents and receipts in PDF</td>\n      <td>BUSINESS</td>\n      <td>4.7</td>\n      <td>11442</td>\n      <td>6.8M</td>\n      <td>100,000+</td>\n      <td>Paid</td>\n      <td>$4.99</td>\n      <td>Everyone</td>\n      <td>Business</td>\n      <td>March 25, 2018</td>\n      <td>1.5.2</td>\n      <td>4.0 and up</td>\n    </tr>\n    <tr>\n      <th>235</th>\n      <td>Tiny Scanner Pro: PDF Doc Scan</td>\n      <td>BUSINESS</td>\n      <td>4.8</td>\n      <td>10295</td>\n      <td>39M</td>\n      <td>100,000+</td>\n      <td>Paid</td>\n      <td>$4.99</td>\n      <td>Everyone</td>\n      <td>Business</td>\n      <td>April 11, 2017</td>\n      <td>3.4.6</td>\n      <td>3.0 and up</td>\n    </tr>\n    <tr>\n      <th>290</th>\n      <td>TurboScan: scan documents and receipts in PDF</td>\n      <td>BUSINESS</td>\n      <td>4.7</td>\n      <td>11442</td>\n      <td>6.8M</td>\n      <td>100,000+</td>\n      <td>Paid</td>\n      <td>$4.99</td>\n      <td>Everyone</td>\n      <td>Business</td>\n      <td>March 25, 2018</td>\n      <td>1.5.2</td>\n      <td>4.0 and up</td>\n    </tr>\n    <tr>\n      <th>291</th>\n      <td>Tiny Scanner Pro: PDF Doc Scan</td>\n      <td>BUSINESS</td>\n      <td>4.8</td>\n      <td>10295</td>\n      <td>39M</td>\n      <td>100,000+</td>\n      <td>Paid</td>\n      <td>$4.99</td>\n      <td>Everyone</td>\n      <td>Business</td>\n      <td>April 11, 2017</td>\n      <td>3.4.6</td>\n      <td>3.0 and up</td>\n    </tr>\n    <tr>\n      <th>427</th>\n      <td>Puffin Browser Pro</td>\n      <td>COMMUNICATION</td>\n      <td>4.0</td>\n      <td>18247</td>\n      <td>Varies with device</td>\n      <td>100,000+</td>\n      <td>Paid</td>\n      <td>$3.99</td>\n      <td>Everyone</td>\n      <td>Communication</td>\n      <td>July 5, 2018</td>\n      <td>7.5.3.20547</td>\n      <td>4.1 and up</td>\n    </tr>\n    <tr>\n      <th>...</th>\n      <td>...</td>\n      <td>...</td>\n      <td>...</td>\n      <td>...</td>\n      <td>...</td>\n      <td>...</td>\n      <td>...</td>\n      <td>...</td>\n      <td>...</td>\n      <td>...</td>\n      <td>...</td>\n      <td>...</td>\n      <td>...</td>\n    </tr>\n    <tr>\n      <th>10690</th>\n      <td>FO Bixby</td>\n      <td>PERSONALIZATION</td>\n      <td>5.0</td>\n      <td>5</td>\n      <td>861k</td>\n      <td>100+</td>\n      <td>Paid</td>\n      <td>$0.99</td>\n      <td>Everyone</td>\n      <td>Personalization</td>\n      <td>April 25, 2018</td>\n      <td>0.2</td>\n      <td>7.0 and up</td>\n    </tr>\n    <tr>\n      <th>10697</th>\n      <td>Mu.F.O.</td>\n      <td>GAME</td>\n      <td>5.0</td>\n      <td>2</td>\n      <td>16M</td>\n      <td>1+</td>\n      <td>Paid</td>\n      <td>$0.99</td>\n      <td>Everyone</td>\n      <td>Arcade</td>\n      <td>March 3, 2017</td>\n      <td>1.0</td>\n      <td>2.3 and up</td>\n    </tr>\n    <tr>\n      <th>10760</th>\n      <td>Fast Tract Diet</td>\n      <td>HEALTH_AND_FITNESS</td>\n      <td>4.4</td>\n      <td>35</td>\n      <td>2.4M</td>\n      <td>1,000+</td>\n      <td>Paid</td>\n      <td>$7.99</td>\n      <td>Everyone</td>\n      <td>Health &amp; Fitness</td>\n      <td>August 8, 2018</td>\n      <td>1.9.3</td>\n      <td>4.2 and up</td>\n    </tr>\n    <tr>\n      <th>10782</th>\n      <td>Trine 2: Complete Story</td>\n      <td>GAME</td>\n      <td>3.8</td>\n      <td>252</td>\n      <td>11M</td>\n      <td>10,000+</td>\n      <td>Paid</td>\n      <td>$16.99</td>\n      <td>Teen</td>\n      <td>Action</td>\n      <td>February 27, 2015</td>\n      <td>2.22</td>\n      <td>5.0 and up</td>\n    </tr>\n    <tr>\n      <th>10785</th>\n      <td>sugar, sugar</td>\n      <td>FAMILY</td>\n      <td>4.2</td>\n      <td>1405</td>\n      <td>9.5M</td>\n      <td>10,000+</td>\n      <td>Paid</td>\n      <td>$1.20</td>\n      <td>Everyone</td>\n      <td>Puzzle</td>\n      <td>June 5, 2018</td>\n      <td>2.7</td>\n      <td>2.3 and up</td>\n    </tr>\n  </tbody>\n</table>\n<p>645 rows × 13 columns</p>\n</div>"
     },
     "execution_count": 22,
     "metadata": {},
     "output_type": "execute_result"
    }
   ],
   "source": [
    "data[data.Price!='0']"
   ],
   "metadata": {
    "collapsed": false,
    "pycharm": {
     "name": "#%%\n"
    }
   }
  },
  {
   "cell_type": "code",
   "execution_count": 26,
   "outputs": [],
   "source": [
    "data['Price'] = pd.Series([price[1:] if price!='0' else price for price in data['Price']])"
   ],
   "metadata": {
    "collapsed": false,
    "pycharm": {
     "name": "#%%\n"
    }
   }
  },
  {
   "cell_type": "code",
   "execution_count": 28,
   "outputs": [
    {
     "data": {
      "text/plain": "                                                 App             Category  \\\n222                     Quick PDF Scanner + OCR FREE             BUSINESS   \n223                                             sABN             BUSINESS   \n278                                 Google Analytics             BUSINESS   \n279                                  AdWords Express             BUSINESS   \n414                               Puffin Web Browser        COMMUNICATION   \n...                                              ...                  ...   \n10834                                  FR Calculator               FAMILY   \n10836                               Sya9a Maroc - FR               FAMILY   \n10837               Fr. Mike Schmitz Audio Teachings               FAMILY   \n10839                  The SCP Foundation DB fr nn5n  BOOKS_AND_REFERENCE   \n10840  iHoroscope - 2018 Daily Horoscope & Astrology            LIFESTYLE   \n\n       Rating Reviews                Size     Installs  Type Price  \\\n222       4.2   80805  Varies with device   5,000,000+  Free  4.99   \n223       4.4    2287                1.5M   1,000,000+  Free  4.99   \n278       4.5   78662                 22M   1,000,000+  Free  4.99   \n279       4.1    7149                 11M   1,000,000+  Free  4.99   \n414       4.3  541389  Varies with device  10,000,000+  Free  3.99   \n...       ...     ...                 ...          ...   ...   ...   \n10834     4.0       7                2.6M         500+  Free   NaN   \n10836     4.5      38                 53M       5,000+  Free   NaN   \n10837     5.0       4                3.6M         100+  Free   NaN   \n10839     4.5     114  Varies with device       1,000+  Free   NaN   \n10840     4.5  398307                 19M  10,000,000+  Free   NaN   \n\n      Content Rating             Genres       Last Updated  \\\n222         Everyone           Business  February 26, 2018   \n223         Everyone           Business     March 26, 2018   \n278         Everyone           Business  February 13, 2018   \n279         Everyone           Business      July 31, 2018   \n414         Everyone      Communication       July 9, 2018   \n...              ...                ...                ...   \n10834       Everyone          Education      June 18, 2017   \n10836       Everyone          Education      July 25, 2017   \n10837       Everyone          Education       July 6, 2018   \n10839     Mature 17+  Books & Reference   January 19, 2015   \n10840       Everyone          Lifestyle      July 25, 2018   \n\n              Current Ver         Android Ver  \n222    Varies with device        4.0.3 and up  \n223                   4.9          2.2 and up  \n278                 3.7.5          4.4 and up  \n279               2.6.158          4.0 and up  \n414           7.5.3.20547          4.1 and up  \n...                   ...                 ...  \n10834               1.0.0          4.1 and up  \n10836                1.48          4.1 and up  \n10837                 1.0          4.1 and up  \n10839  Varies with device  Varies with device  \n10840  Varies with device  Varies with device  \n\n[1705 rows x 13 columns]",
      "text/html": "<div>\n<style scoped>\n    .dataframe tbody tr th:only-of-type {\n        vertical-align: middle;\n    }\n\n    .dataframe tbody tr th {\n        vertical-align: top;\n    }\n\n    .dataframe thead th {\n        text-align: right;\n    }\n</style>\n<table border=\"1\" class=\"dataframe\">\n  <thead>\n    <tr style=\"text-align: right;\">\n      <th></th>\n      <th>App</th>\n      <th>Category</th>\n      <th>Rating</th>\n      <th>Reviews</th>\n      <th>Size</th>\n      <th>Installs</th>\n      <th>Type</th>\n      <th>Price</th>\n      <th>Content Rating</th>\n      <th>Genres</th>\n      <th>Last Updated</th>\n      <th>Current Ver</th>\n      <th>Android Ver</th>\n    </tr>\n  </thead>\n  <tbody>\n    <tr>\n      <th>222</th>\n      <td>Quick PDF Scanner + OCR FREE</td>\n      <td>BUSINESS</td>\n      <td>4.2</td>\n      <td>80805</td>\n      <td>Varies with device</td>\n      <td>5,000,000+</td>\n      <td>Free</td>\n      <td>4.99</td>\n      <td>Everyone</td>\n      <td>Business</td>\n      <td>February 26, 2018</td>\n      <td>Varies with device</td>\n      <td>4.0.3 and up</td>\n    </tr>\n    <tr>\n      <th>223</th>\n      <td>sABN</td>\n      <td>BUSINESS</td>\n      <td>4.4</td>\n      <td>2287</td>\n      <td>1.5M</td>\n      <td>1,000,000+</td>\n      <td>Free</td>\n      <td>4.99</td>\n      <td>Everyone</td>\n      <td>Business</td>\n      <td>March 26, 2018</td>\n      <td>4.9</td>\n      <td>2.2 and up</td>\n    </tr>\n    <tr>\n      <th>278</th>\n      <td>Google Analytics</td>\n      <td>BUSINESS</td>\n      <td>4.5</td>\n      <td>78662</td>\n      <td>22M</td>\n      <td>1,000,000+</td>\n      <td>Free</td>\n      <td>4.99</td>\n      <td>Everyone</td>\n      <td>Business</td>\n      <td>February 13, 2018</td>\n      <td>3.7.5</td>\n      <td>4.4 and up</td>\n    </tr>\n    <tr>\n      <th>279</th>\n      <td>AdWords Express</td>\n      <td>BUSINESS</td>\n      <td>4.1</td>\n      <td>7149</td>\n      <td>11M</td>\n      <td>1,000,000+</td>\n      <td>Free</td>\n      <td>4.99</td>\n      <td>Everyone</td>\n      <td>Business</td>\n      <td>July 31, 2018</td>\n      <td>2.6.158</td>\n      <td>4.0 and up</td>\n    </tr>\n    <tr>\n      <th>414</th>\n      <td>Puffin Web Browser</td>\n      <td>COMMUNICATION</td>\n      <td>4.3</td>\n      <td>541389</td>\n      <td>Varies with device</td>\n      <td>10,000,000+</td>\n      <td>Free</td>\n      <td>3.99</td>\n      <td>Everyone</td>\n      <td>Communication</td>\n      <td>July 9, 2018</td>\n      <td>7.5.3.20547</td>\n      <td>4.1 and up</td>\n    </tr>\n    <tr>\n      <th>...</th>\n      <td>...</td>\n      <td>...</td>\n      <td>...</td>\n      <td>...</td>\n      <td>...</td>\n      <td>...</td>\n      <td>...</td>\n      <td>...</td>\n      <td>...</td>\n      <td>...</td>\n      <td>...</td>\n      <td>...</td>\n      <td>...</td>\n    </tr>\n    <tr>\n      <th>10834</th>\n      <td>FR Calculator</td>\n      <td>FAMILY</td>\n      <td>4.0</td>\n      <td>7</td>\n      <td>2.6M</td>\n      <td>500+</td>\n      <td>Free</td>\n      <td>NaN</td>\n      <td>Everyone</td>\n      <td>Education</td>\n      <td>June 18, 2017</td>\n      <td>1.0.0</td>\n      <td>4.1 and up</td>\n    </tr>\n    <tr>\n      <th>10836</th>\n      <td>Sya9a Maroc - FR</td>\n      <td>FAMILY</td>\n      <td>4.5</td>\n      <td>38</td>\n      <td>53M</td>\n      <td>5,000+</td>\n      <td>Free</td>\n      <td>NaN</td>\n      <td>Everyone</td>\n      <td>Education</td>\n      <td>July 25, 2017</td>\n      <td>1.48</td>\n      <td>4.1 and up</td>\n    </tr>\n    <tr>\n      <th>10837</th>\n      <td>Fr. Mike Schmitz Audio Teachings</td>\n      <td>FAMILY</td>\n      <td>5.0</td>\n      <td>4</td>\n      <td>3.6M</td>\n      <td>100+</td>\n      <td>Free</td>\n      <td>NaN</td>\n      <td>Everyone</td>\n      <td>Education</td>\n      <td>July 6, 2018</td>\n      <td>1.0</td>\n      <td>4.1 and up</td>\n    </tr>\n    <tr>\n      <th>10839</th>\n      <td>The SCP Foundation DB fr nn5n</td>\n      <td>BOOKS_AND_REFERENCE</td>\n      <td>4.5</td>\n      <td>114</td>\n      <td>Varies with device</td>\n      <td>1,000+</td>\n      <td>Free</td>\n      <td>NaN</td>\n      <td>Mature 17+</td>\n      <td>Books &amp; Reference</td>\n      <td>January 19, 2015</td>\n      <td>Varies with device</td>\n      <td>Varies with device</td>\n    </tr>\n    <tr>\n      <th>10840</th>\n      <td>iHoroscope - 2018 Daily Horoscope &amp; Astrology</td>\n      <td>LIFESTYLE</td>\n      <td>4.5</td>\n      <td>398307</td>\n      <td>19M</td>\n      <td>10,000,000+</td>\n      <td>Free</td>\n      <td>NaN</td>\n      <td>Everyone</td>\n      <td>Lifestyle</td>\n      <td>July 25, 2018</td>\n      <td>Varies with device</td>\n      <td>Varies with device</td>\n    </tr>\n  </tbody>\n</table>\n<p>1705 rows × 13 columns</p>\n</div>"
     },
     "execution_count": 28,
     "metadata": {},
     "output_type": "execute_result"
    }
   ],
   "source": [
    "data[data.Price!='0']"
   ],
   "metadata": {
    "collapsed": false,
    "pycharm": {
     "name": "#%%\n"
    }
   }
  },
  {
   "cell_type": "code",
   "execution_count": 42,
   "outputs": [],
   "source": [
    "cleaned_data = data.astype({'Price':'float32','Reviews':'int32'})"
   ],
   "metadata": {
    "collapsed": false,
    "pycharm": {
     "name": "#%%\n"
    }
   }
  },
  {
   "cell_type": "code",
   "execution_count": 43,
   "outputs": [
    {
     "data": {
      "text/plain": "                                                     App             Category  \\\n0         Photo Editor & Candy Camera & Grid & ScrapBook       ART_AND_DESIGN   \n1                                    Coloring book moana       ART_AND_DESIGN   \n2      U Launcher Lite – FREE Live Cool Themes, Hide ...       ART_AND_DESIGN   \n3                                  Sketch - Draw & Paint       ART_AND_DESIGN   \n4                  Pixel Draw - Number Art Coloring Book       ART_AND_DESIGN   \n...                                                  ...                  ...   \n10834                                      FR Calculator               FAMILY   \n10836                                   Sya9a Maroc - FR               FAMILY   \n10837                   Fr. Mike Schmitz Audio Teachings               FAMILY   \n10839                      The SCP Foundation DB fr nn5n  BOOKS_AND_REFERENCE   \n10840      iHoroscope - 2018 Daily Horoscope & Astrology            LIFESTYLE   \n\n       Rating  Reviews                Size     Installs  Type  Price  \\\n0         4.1      159                 19M      10,000+  Free    0.0   \n1         3.9      967                 14M     500,000+  Free    0.0   \n2         4.7    87510                8.7M   5,000,000+  Free    0.0   \n3         4.5   215644                 25M  50,000,000+  Free    0.0   \n4         4.3      967                2.8M     100,000+  Free    0.0   \n...       ...      ...                 ...          ...   ...    ...   \n10834     4.0        7                2.6M         500+  Free    NaN   \n10836     4.5       38                 53M       5,000+  Free    NaN   \n10837     5.0        4                3.6M         100+  Free    NaN   \n10839     4.5      114  Varies with device       1,000+  Free    NaN   \n10840     4.5   398307                 19M  10,000,000+  Free    NaN   \n\n      Content Rating                     Genres      Last Updated  \\\n0           Everyone               Art & Design   January 7, 2018   \n1           Everyone  Art & Design;Pretend Play  January 15, 2018   \n2           Everyone               Art & Design    August 1, 2018   \n3               Teen               Art & Design      June 8, 2018   \n4           Everyone    Art & Design;Creativity     June 20, 2018   \n...              ...                        ...               ...   \n10834       Everyone                  Education     June 18, 2017   \n10836       Everyone                  Education     July 25, 2017   \n10837       Everyone                  Education      July 6, 2018   \n10839     Mature 17+          Books & Reference  January 19, 2015   \n10840       Everyone                  Lifestyle     July 25, 2018   \n\n              Current Ver         Android Ver  \n0                   1.0.0        4.0.3 and up  \n1                   2.0.0        4.0.3 and up  \n2                   1.2.4        4.0.3 and up  \n3      Varies with device          4.2 and up  \n4                     1.1          4.4 and up  \n...                   ...                 ...  \n10834               1.0.0          4.1 and up  \n10836                1.48          4.1 and up  \n10837                 1.0          4.1 and up  \n10839  Varies with device  Varies with device  \n10840  Varies with device  Varies with device  \n\n[9360 rows x 13 columns]",
      "text/html": "<div>\n<style scoped>\n    .dataframe tbody tr th:only-of-type {\n        vertical-align: middle;\n    }\n\n    .dataframe tbody tr th {\n        vertical-align: top;\n    }\n\n    .dataframe thead th {\n        text-align: right;\n    }\n</style>\n<table border=\"1\" class=\"dataframe\">\n  <thead>\n    <tr style=\"text-align: right;\">\n      <th></th>\n      <th>App</th>\n      <th>Category</th>\n      <th>Rating</th>\n      <th>Reviews</th>\n      <th>Size</th>\n      <th>Installs</th>\n      <th>Type</th>\n      <th>Price</th>\n      <th>Content Rating</th>\n      <th>Genres</th>\n      <th>Last Updated</th>\n      <th>Current Ver</th>\n      <th>Android Ver</th>\n    </tr>\n  </thead>\n  <tbody>\n    <tr>\n      <th>0</th>\n      <td>Photo Editor &amp; Candy Camera &amp; Grid &amp; ScrapBook</td>\n      <td>ART_AND_DESIGN</td>\n      <td>4.1</td>\n      <td>159</td>\n      <td>19M</td>\n      <td>10,000+</td>\n      <td>Free</td>\n      <td>0.0</td>\n      <td>Everyone</td>\n      <td>Art &amp; Design</td>\n      <td>January 7, 2018</td>\n      <td>1.0.0</td>\n      <td>4.0.3 and up</td>\n    </tr>\n    <tr>\n      <th>1</th>\n      <td>Coloring book moana</td>\n      <td>ART_AND_DESIGN</td>\n      <td>3.9</td>\n      <td>967</td>\n      <td>14M</td>\n      <td>500,000+</td>\n      <td>Free</td>\n      <td>0.0</td>\n      <td>Everyone</td>\n      <td>Art &amp; Design;Pretend Play</td>\n      <td>January 15, 2018</td>\n      <td>2.0.0</td>\n      <td>4.0.3 and up</td>\n    </tr>\n    <tr>\n      <th>2</th>\n      <td>U Launcher Lite – FREE Live Cool Themes, Hide ...</td>\n      <td>ART_AND_DESIGN</td>\n      <td>4.7</td>\n      <td>87510</td>\n      <td>8.7M</td>\n      <td>5,000,000+</td>\n      <td>Free</td>\n      <td>0.0</td>\n      <td>Everyone</td>\n      <td>Art &amp; Design</td>\n      <td>August 1, 2018</td>\n      <td>1.2.4</td>\n      <td>4.0.3 and up</td>\n    </tr>\n    <tr>\n      <th>3</th>\n      <td>Sketch - Draw &amp; Paint</td>\n      <td>ART_AND_DESIGN</td>\n      <td>4.5</td>\n      <td>215644</td>\n      <td>25M</td>\n      <td>50,000,000+</td>\n      <td>Free</td>\n      <td>0.0</td>\n      <td>Teen</td>\n      <td>Art &amp; Design</td>\n      <td>June 8, 2018</td>\n      <td>Varies with device</td>\n      <td>4.2 and up</td>\n    </tr>\n    <tr>\n      <th>4</th>\n      <td>Pixel Draw - Number Art Coloring Book</td>\n      <td>ART_AND_DESIGN</td>\n      <td>4.3</td>\n      <td>967</td>\n      <td>2.8M</td>\n      <td>100,000+</td>\n      <td>Free</td>\n      <td>0.0</td>\n      <td>Everyone</td>\n      <td>Art &amp; Design;Creativity</td>\n      <td>June 20, 2018</td>\n      <td>1.1</td>\n      <td>4.4 and up</td>\n    </tr>\n    <tr>\n      <th>...</th>\n      <td>...</td>\n      <td>...</td>\n      <td>...</td>\n      <td>...</td>\n      <td>...</td>\n      <td>...</td>\n      <td>...</td>\n      <td>...</td>\n      <td>...</td>\n      <td>...</td>\n      <td>...</td>\n      <td>...</td>\n      <td>...</td>\n    </tr>\n    <tr>\n      <th>10834</th>\n      <td>FR Calculator</td>\n      <td>FAMILY</td>\n      <td>4.0</td>\n      <td>7</td>\n      <td>2.6M</td>\n      <td>500+</td>\n      <td>Free</td>\n      <td>NaN</td>\n      <td>Everyone</td>\n      <td>Education</td>\n      <td>June 18, 2017</td>\n      <td>1.0.0</td>\n      <td>4.1 and up</td>\n    </tr>\n    <tr>\n      <th>10836</th>\n      <td>Sya9a Maroc - FR</td>\n      <td>FAMILY</td>\n      <td>4.5</td>\n      <td>38</td>\n      <td>53M</td>\n      <td>5,000+</td>\n      <td>Free</td>\n      <td>NaN</td>\n      <td>Everyone</td>\n      <td>Education</td>\n      <td>July 25, 2017</td>\n      <td>1.48</td>\n      <td>4.1 and up</td>\n    </tr>\n    <tr>\n      <th>10837</th>\n      <td>Fr. Mike Schmitz Audio Teachings</td>\n      <td>FAMILY</td>\n      <td>5.0</td>\n      <td>4</td>\n      <td>3.6M</td>\n      <td>100+</td>\n      <td>Free</td>\n      <td>NaN</td>\n      <td>Everyone</td>\n      <td>Education</td>\n      <td>July 6, 2018</td>\n      <td>1.0</td>\n      <td>4.1 and up</td>\n    </tr>\n    <tr>\n      <th>10839</th>\n      <td>The SCP Foundation DB fr nn5n</td>\n      <td>BOOKS_AND_REFERENCE</td>\n      <td>4.5</td>\n      <td>114</td>\n      <td>Varies with device</td>\n      <td>1,000+</td>\n      <td>Free</td>\n      <td>NaN</td>\n      <td>Mature 17+</td>\n      <td>Books &amp; Reference</td>\n      <td>January 19, 2015</td>\n      <td>Varies with device</td>\n      <td>Varies with device</td>\n    </tr>\n    <tr>\n      <th>10840</th>\n      <td>iHoroscope - 2018 Daily Horoscope &amp; Astrology</td>\n      <td>LIFESTYLE</td>\n      <td>4.5</td>\n      <td>398307</td>\n      <td>19M</td>\n      <td>10,000,000+</td>\n      <td>Free</td>\n      <td>NaN</td>\n      <td>Everyone</td>\n      <td>Lifestyle</td>\n      <td>July 25, 2018</td>\n      <td>Varies with device</td>\n      <td>Varies with device</td>\n    </tr>\n  </tbody>\n</table>\n<p>9360 rows × 13 columns</p>\n</div>"
     },
     "execution_count": 43,
     "metadata": {},
     "output_type": "execute_result"
    }
   ],
   "source": [
    "cleaned_data"
   ],
   "metadata": {
    "collapsed": false,
    "pycharm": {
     "name": "#%%\n"
    }
   }
  },
  {
   "cell_type": "code",
   "execution_count": 44,
   "outputs": [
    {
     "data": {
      "text/plain": "App                object\nCategory           object\nRating            float64\nReviews             int32\nSize               object\nInstalls           object\nType               object\nPrice             float32\nContent Rating     object\nGenres             object\nLast Updated       object\nCurrent Ver        object\nAndroid Ver        object\ndtype: object"
     },
     "execution_count": 44,
     "metadata": {},
     "output_type": "execute_result"
    }
   ],
   "source": [
    "cleaned_data.dtypes"
   ],
   "metadata": {
    "collapsed": false,
    "pycharm": {
     "name": "#%%\n"
    }
   }
  },
  {
   "cell_type": "code",
   "execution_count": 51,
   "outputs": [],
   "source": [
    "cleaned_data['Installs'] = cleaned_data['Installs'].replace('[\\+\\,]','',regex=True).astype(int)"
   ],
   "metadata": {
    "collapsed": false,
    "pycharm": {
     "name": "#%%\n"
    }
   }
  },
  {
   "cell_type": "code",
   "execution_count": 52,
   "outputs": [
    {
     "data": {
      "text/plain": "                                                     App             Category  \\\n0         Photo Editor & Candy Camera & Grid & ScrapBook       ART_AND_DESIGN   \n1                                    Coloring book moana       ART_AND_DESIGN   \n2      U Launcher Lite – FREE Live Cool Themes, Hide ...       ART_AND_DESIGN   \n3                                  Sketch - Draw & Paint       ART_AND_DESIGN   \n4                  Pixel Draw - Number Art Coloring Book       ART_AND_DESIGN   \n...                                                  ...                  ...   \n10834                                      FR Calculator               FAMILY   \n10836                                   Sya9a Maroc - FR               FAMILY   \n10837                   Fr. Mike Schmitz Audio Teachings               FAMILY   \n10839                      The SCP Foundation DB fr nn5n  BOOKS_AND_REFERENCE   \n10840      iHoroscope - 2018 Daily Horoscope & Astrology            LIFESTYLE   \n\n       Rating  Reviews                Size  Installs  Type  Price  \\\n0         4.1      159                 19M     10000  Free    0.0   \n1         3.9      967                 14M    500000  Free    0.0   \n2         4.7    87510                8.7M   5000000  Free    0.0   \n3         4.5   215644                 25M  50000000  Free    0.0   \n4         4.3      967                2.8M    100000  Free    0.0   \n...       ...      ...                 ...       ...   ...    ...   \n10834     4.0        7                2.6M       500  Free    NaN   \n10836     4.5       38                 53M      5000  Free    NaN   \n10837     5.0        4                3.6M       100  Free    NaN   \n10839     4.5      114  Varies with device      1000  Free    NaN   \n10840     4.5   398307                 19M  10000000  Free    NaN   \n\n      Content Rating                     Genres      Last Updated  \\\n0           Everyone               Art & Design   January 7, 2018   \n1           Everyone  Art & Design;Pretend Play  January 15, 2018   \n2           Everyone               Art & Design    August 1, 2018   \n3               Teen               Art & Design      June 8, 2018   \n4           Everyone    Art & Design;Creativity     June 20, 2018   \n...              ...                        ...               ...   \n10834       Everyone                  Education     June 18, 2017   \n10836       Everyone                  Education     July 25, 2017   \n10837       Everyone                  Education      July 6, 2018   \n10839     Mature 17+          Books & Reference  January 19, 2015   \n10840       Everyone                  Lifestyle     July 25, 2018   \n\n              Current Ver         Android Ver  \n0                   1.0.0        4.0.3 and up  \n1                   2.0.0        4.0.3 and up  \n2                   1.2.4        4.0.3 and up  \n3      Varies with device          4.2 and up  \n4                     1.1          4.4 and up  \n...                   ...                 ...  \n10834               1.0.0          4.1 and up  \n10836                1.48          4.1 and up  \n10837                 1.0          4.1 and up  \n10839  Varies with device  Varies with device  \n10840  Varies with device  Varies with device  \n\n[9360 rows x 13 columns]",
      "text/html": "<div>\n<style scoped>\n    .dataframe tbody tr th:only-of-type {\n        vertical-align: middle;\n    }\n\n    .dataframe tbody tr th {\n        vertical-align: top;\n    }\n\n    .dataframe thead th {\n        text-align: right;\n    }\n</style>\n<table border=\"1\" class=\"dataframe\">\n  <thead>\n    <tr style=\"text-align: right;\">\n      <th></th>\n      <th>App</th>\n      <th>Category</th>\n      <th>Rating</th>\n      <th>Reviews</th>\n      <th>Size</th>\n      <th>Installs</th>\n      <th>Type</th>\n      <th>Price</th>\n      <th>Content Rating</th>\n      <th>Genres</th>\n      <th>Last Updated</th>\n      <th>Current Ver</th>\n      <th>Android Ver</th>\n    </tr>\n  </thead>\n  <tbody>\n    <tr>\n      <th>0</th>\n      <td>Photo Editor &amp; Candy Camera &amp; Grid &amp; ScrapBook</td>\n      <td>ART_AND_DESIGN</td>\n      <td>4.1</td>\n      <td>159</td>\n      <td>19M</td>\n      <td>10000</td>\n      <td>Free</td>\n      <td>0.0</td>\n      <td>Everyone</td>\n      <td>Art &amp; Design</td>\n      <td>January 7, 2018</td>\n      <td>1.0.0</td>\n      <td>4.0.3 and up</td>\n    </tr>\n    <tr>\n      <th>1</th>\n      <td>Coloring book moana</td>\n      <td>ART_AND_DESIGN</td>\n      <td>3.9</td>\n      <td>967</td>\n      <td>14M</td>\n      <td>500000</td>\n      <td>Free</td>\n      <td>0.0</td>\n      <td>Everyone</td>\n      <td>Art &amp; Design;Pretend Play</td>\n      <td>January 15, 2018</td>\n      <td>2.0.0</td>\n      <td>4.0.3 and up</td>\n    </tr>\n    <tr>\n      <th>2</th>\n      <td>U Launcher Lite – FREE Live Cool Themes, Hide ...</td>\n      <td>ART_AND_DESIGN</td>\n      <td>4.7</td>\n      <td>87510</td>\n      <td>8.7M</td>\n      <td>5000000</td>\n      <td>Free</td>\n      <td>0.0</td>\n      <td>Everyone</td>\n      <td>Art &amp; Design</td>\n      <td>August 1, 2018</td>\n      <td>1.2.4</td>\n      <td>4.0.3 and up</td>\n    </tr>\n    <tr>\n      <th>3</th>\n      <td>Sketch - Draw &amp; Paint</td>\n      <td>ART_AND_DESIGN</td>\n      <td>4.5</td>\n      <td>215644</td>\n      <td>25M</td>\n      <td>50000000</td>\n      <td>Free</td>\n      <td>0.0</td>\n      <td>Teen</td>\n      <td>Art &amp; Design</td>\n      <td>June 8, 2018</td>\n      <td>Varies with device</td>\n      <td>4.2 and up</td>\n    </tr>\n    <tr>\n      <th>4</th>\n      <td>Pixel Draw - Number Art Coloring Book</td>\n      <td>ART_AND_DESIGN</td>\n      <td>4.3</td>\n      <td>967</td>\n      <td>2.8M</td>\n      <td>100000</td>\n      <td>Free</td>\n      <td>0.0</td>\n      <td>Everyone</td>\n      <td>Art &amp; Design;Creativity</td>\n      <td>June 20, 2018</td>\n      <td>1.1</td>\n      <td>4.4 and up</td>\n    </tr>\n    <tr>\n      <th>...</th>\n      <td>...</td>\n      <td>...</td>\n      <td>...</td>\n      <td>...</td>\n      <td>...</td>\n      <td>...</td>\n      <td>...</td>\n      <td>...</td>\n      <td>...</td>\n      <td>...</td>\n      <td>...</td>\n      <td>...</td>\n      <td>...</td>\n    </tr>\n    <tr>\n      <th>10834</th>\n      <td>FR Calculator</td>\n      <td>FAMILY</td>\n      <td>4.0</td>\n      <td>7</td>\n      <td>2.6M</td>\n      <td>500</td>\n      <td>Free</td>\n      <td>NaN</td>\n      <td>Everyone</td>\n      <td>Education</td>\n      <td>June 18, 2017</td>\n      <td>1.0.0</td>\n      <td>4.1 and up</td>\n    </tr>\n    <tr>\n      <th>10836</th>\n      <td>Sya9a Maroc - FR</td>\n      <td>FAMILY</td>\n      <td>4.5</td>\n      <td>38</td>\n      <td>53M</td>\n      <td>5000</td>\n      <td>Free</td>\n      <td>NaN</td>\n      <td>Everyone</td>\n      <td>Education</td>\n      <td>July 25, 2017</td>\n      <td>1.48</td>\n      <td>4.1 and up</td>\n    </tr>\n    <tr>\n      <th>10837</th>\n      <td>Fr. Mike Schmitz Audio Teachings</td>\n      <td>FAMILY</td>\n      <td>5.0</td>\n      <td>4</td>\n      <td>3.6M</td>\n      <td>100</td>\n      <td>Free</td>\n      <td>NaN</td>\n      <td>Everyone</td>\n      <td>Education</td>\n      <td>July 6, 2018</td>\n      <td>1.0</td>\n      <td>4.1 and up</td>\n    </tr>\n    <tr>\n      <th>10839</th>\n      <td>The SCP Foundation DB fr nn5n</td>\n      <td>BOOKS_AND_REFERENCE</td>\n      <td>4.5</td>\n      <td>114</td>\n      <td>Varies with device</td>\n      <td>1000</td>\n      <td>Free</td>\n      <td>NaN</td>\n      <td>Mature 17+</td>\n      <td>Books &amp; Reference</td>\n      <td>January 19, 2015</td>\n      <td>Varies with device</td>\n      <td>Varies with device</td>\n    </tr>\n    <tr>\n      <th>10840</th>\n      <td>iHoroscope - 2018 Daily Horoscope &amp; Astrology</td>\n      <td>LIFESTYLE</td>\n      <td>4.5</td>\n      <td>398307</td>\n      <td>19M</td>\n      <td>10000000</td>\n      <td>Free</td>\n      <td>NaN</td>\n      <td>Everyone</td>\n      <td>Lifestyle</td>\n      <td>July 25, 2018</td>\n      <td>Varies with device</td>\n      <td>Varies with device</td>\n    </tr>\n  </tbody>\n</table>\n<p>9360 rows × 13 columns</p>\n</div>"
     },
     "execution_count": 52,
     "metadata": {},
     "output_type": "execute_result"
    }
   ],
   "source": [
    "cleaned_data"
   ],
   "metadata": {
    "collapsed": false,
    "pycharm": {
     "name": "#%%\n"
    }
   }
  },
  {
   "cell_type": "code",
   "execution_count": 53,
   "outputs": [
    {
     "data": {
      "text/plain": "App                object\nCategory           object\nRating            float64\nReviews             int32\nSize               object\nInstalls            int64\nType               object\nPrice             float32\nContent Rating     object\nGenres             object\nLast Updated       object\nCurrent Ver        object\nAndroid Ver        object\ndtype: object"
     },
     "execution_count": 53,
     "metadata": {},
     "output_type": "execute_result"
    }
   ],
   "source": [
    "cleaned_data.dtypes"
   ],
   "metadata": {
    "collapsed": false,
    "pycharm": {
     "name": "#%%\n"
    }
   }
  },
  {
   "cell_type": "code",
   "execution_count": 56,
   "outputs": [
    {
     "data": {
      "text/plain": "App                  0\nCategory             0\nRating               0\nReviews              0\nSize                 0\nInstalls             0\nType                 0\nPrice             1140\nContent Rating       0\nGenres               0\nLast Updated         0\nCurrent Ver          0\nAndroid Ver          0\ndtype: int64"
     },
     "execution_count": 56,
     "metadata": {},
     "output_type": "execute_result"
    }
   ],
   "source": [
    "cleaned_data.isnull().sum()"
   ],
   "metadata": {
    "collapsed": false,
    "pycharm": {
     "name": "#%%\n"
    }
   }
  },
  {
   "cell_type": "code",
   "execution_count": 57,
   "outputs": [
    {
     "name": "stdout",
     "output_type": "stream",
     "text": [
      "<class 'pandas.core.frame.DataFrame'>\n",
      "Int64Index: 9360 entries, 0 to 10840\n",
      "Data columns (total 13 columns):\n",
      " #   Column          Non-Null Count  Dtype  \n",
      "---  ------          --------------  -----  \n",
      " 0   App             9360 non-null   object \n",
      " 1   Category        9360 non-null   object \n",
      " 2   Rating          9360 non-null   float64\n",
      " 3   Reviews         9360 non-null   int32  \n",
      " 4   Size            9360 non-null   object \n",
      " 5   Installs        9360 non-null   int64  \n",
      " 6   Type            9360 non-null   object \n",
      " 7   Price           8220 non-null   float32\n",
      " 8   Content Rating  9360 non-null   object \n",
      " 9   Genres          9360 non-null   object \n",
      " 10  Last Updated    9360 non-null   object \n",
      " 11  Current Ver     9360 non-null   object \n",
      " 12  Android Ver     9360 non-null   object \n",
      "dtypes: float32(1), float64(1), int32(1), int64(1), object(9)\n",
      "memory usage: 1.2+ MB\n"
     ]
    }
   ],
   "source": [
    "cleaned_data.info()"
   ],
   "metadata": {
    "collapsed": false,
    "pycharm": {
     "name": "#%%\n"
    }
   }
  },
  {
   "cell_type": "code",
   "execution_count": 60,
   "outputs": [
    {
     "data": {
      "text/plain": "                                                 App             Category  \\\n222                     Quick PDF Scanner + OCR FREE             BUSINESS   \n223                                             sABN             BUSINESS   \n278                                 Google Analytics             BUSINESS   \n279                                  AdWords Express             BUSINESS   \n414                               Puffin Web Browser        COMMUNICATION   \n...                                              ...                  ...   \n10834                                  FR Calculator               FAMILY   \n10836                               Sya9a Maroc - FR               FAMILY   \n10837               Fr. Mike Schmitz Audio Teachings               FAMILY   \n10839                  The SCP Foundation DB fr nn5n  BOOKS_AND_REFERENCE   \n10840  iHoroscope - 2018 Daily Horoscope & Astrology            LIFESTYLE   \n\n       Rating  Reviews                Size  Installs  Type  Price  \\\n222       4.2    80805  Varies with device   5000000  Free   4.99   \n223       4.4     2287                1.5M   1000000  Free   4.99   \n278       4.5    78662                 22M   1000000  Free   4.99   \n279       4.1     7149                 11M   1000000  Free   4.99   \n414       4.3   541389  Varies with device  10000000  Free   3.99   \n...       ...      ...                 ...       ...   ...    ...   \n10834     4.0        7                2.6M       500  Free    NaN   \n10836     4.5       38                 53M      5000  Free    NaN   \n10837     5.0        4                3.6M       100  Free    NaN   \n10839     4.5      114  Varies with device      1000  Free    NaN   \n10840     4.5   398307                 19M  10000000  Free    NaN   \n\n      Content Rating             Genres       Last Updated  \\\n222         Everyone           Business  February 26, 2018   \n223         Everyone           Business     March 26, 2018   \n278         Everyone           Business  February 13, 2018   \n279         Everyone           Business      July 31, 2018   \n414         Everyone      Communication       July 9, 2018   \n...              ...                ...                ...   \n10834       Everyone          Education      June 18, 2017   \n10836       Everyone          Education      July 25, 2017   \n10837       Everyone          Education       July 6, 2018   \n10839     Mature 17+  Books & Reference   January 19, 2015   \n10840       Everyone          Lifestyle      July 25, 2018   \n\n              Current Ver         Android Ver  \n222    Varies with device        4.0.3 and up  \n223                   4.9          2.2 and up  \n278                 3.7.5          4.4 and up  \n279               2.6.158          4.0 and up  \n414           7.5.3.20547          4.1 and up  \n...                   ...                 ...  \n10834               1.0.0          4.1 and up  \n10836                1.48          4.1 and up  \n10837                 1.0          4.1 and up  \n10839  Varies with device  Varies with device  \n10840  Varies with device  Varies with device  \n\n[1705 rows x 13 columns]",
      "text/html": "<div>\n<style scoped>\n    .dataframe tbody tr th:only-of-type {\n        vertical-align: middle;\n    }\n\n    .dataframe tbody tr th {\n        vertical-align: top;\n    }\n\n    .dataframe thead th {\n        text-align: right;\n    }\n</style>\n<table border=\"1\" class=\"dataframe\">\n  <thead>\n    <tr style=\"text-align: right;\">\n      <th></th>\n      <th>App</th>\n      <th>Category</th>\n      <th>Rating</th>\n      <th>Reviews</th>\n      <th>Size</th>\n      <th>Installs</th>\n      <th>Type</th>\n      <th>Price</th>\n      <th>Content Rating</th>\n      <th>Genres</th>\n      <th>Last Updated</th>\n      <th>Current Ver</th>\n      <th>Android Ver</th>\n    </tr>\n  </thead>\n  <tbody>\n    <tr>\n      <th>222</th>\n      <td>Quick PDF Scanner + OCR FREE</td>\n      <td>BUSINESS</td>\n      <td>4.2</td>\n      <td>80805</td>\n      <td>Varies with device</td>\n      <td>5000000</td>\n      <td>Free</td>\n      <td>4.99</td>\n      <td>Everyone</td>\n      <td>Business</td>\n      <td>February 26, 2018</td>\n      <td>Varies with device</td>\n      <td>4.0.3 and up</td>\n    </tr>\n    <tr>\n      <th>223</th>\n      <td>sABN</td>\n      <td>BUSINESS</td>\n      <td>4.4</td>\n      <td>2287</td>\n      <td>1.5M</td>\n      <td>1000000</td>\n      <td>Free</td>\n      <td>4.99</td>\n      <td>Everyone</td>\n      <td>Business</td>\n      <td>March 26, 2018</td>\n      <td>4.9</td>\n      <td>2.2 and up</td>\n    </tr>\n    <tr>\n      <th>278</th>\n      <td>Google Analytics</td>\n      <td>BUSINESS</td>\n      <td>4.5</td>\n      <td>78662</td>\n      <td>22M</td>\n      <td>1000000</td>\n      <td>Free</td>\n      <td>4.99</td>\n      <td>Everyone</td>\n      <td>Business</td>\n      <td>February 13, 2018</td>\n      <td>3.7.5</td>\n      <td>4.4 and up</td>\n    </tr>\n    <tr>\n      <th>279</th>\n      <td>AdWords Express</td>\n      <td>BUSINESS</td>\n      <td>4.1</td>\n      <td>7149</td>\n      <td>11M</td>\n      <td>1000000</td>\n      <td>Free</td>\n      <td>4.99</td>\n      <td>Everyone</td>\n      <td>Business</td>\n      <td>July 31, 2018</td>\n      <td>2.6.158</td>\n      <td>4.0 and up</td>\n    </tr>\n    <tr>\n      <th>414</th>\n      <td>Puffin Web Browser</td>\n      <td>COMMUNICATION</td>\n      <td>4.3</td>\n      <td>541389</td>\n      <td>Varies with device</td>\n      <td>10000000</td>\n      <td>Free</td>\n      <td>3.99</td>\n      <td>Everyone</td>\n      <td>Communication</td>\n      <td>July 9, 2018</td>\n      <td>7.5.3.20547</td>\n      <td>4.1 and up</td>\n    </tr>\n    <tr>\n      <th>...</th>\n      <td>...</td>\n      <td>...</td>\n      <td>...</td>\n      <td>...</td>\n      <td>...</td>\n      <td>...</td>\n      <td>...</td>\n      <td>...</td>\n      <td>...</td>\n      <td>...</td>\n      <td>...</td>\n      <td>...</td>\n      <td>...</td>\n    </tr>\n    <tr>\n      <th>10834</th>\n      <td>FR Calculator</td>\n      <td>FAMILY</td>\n      <td>4.0</td>\n      <td>7</td>\n      <td>2.6M</td>\n      <td>500</td>\n      <td>Free</td>\n      <td>NaN</td>\n      <td>Everyone</td>\n      <td>Education</td>\n      <td>June 18, 2017</td>\n      <td>1.0.0</td>\n      <td>4.1 and up</td>\n    </tr>\n    <tr>\n      <th>10836</th>\n      <td>Sya9a Maroc - FR</td>\n      <td>FAMILY</td>\n      <td>4.5</td>\n      <td>38</td>\n      <td>53M</td>\n      <td>5000</td>\n      <td>Free</td>\n      <td>NaN</td>\n      <td>Everyone</td>\n      <td>Education</td>\n      <td>July 25, 2017</td>\n      <td>1.48</td>\n      <td>4.1 and up</td>\n    </tr>\n    <tr>\n      <th>10837</th>\n      <td>Fr. Mike Schmitz Audio Teachings</td>\n      <td>FAMILY</td>\n      <td>5.0</td>\n      <td>4</td>\n      <td>3.6M</td>\n      <td>100</td>\n      <td>Free</td>\n      <td>NaN</td>\n      <td>Everyone</td>\n      <td>Education</td>\n      <td>July 6, 2018</td>\n      <td>1.0</td>\n      <td>4.1 and up</td>\n    </tr>\n    <tr>\n      <th>10839</th>\n      <td>The SCP Foundation DB fr nn5n</td>\n      <td>BOOKS_AND_REFERENCE</td>\n      <td>4.5</td>\n      <td>114</td>\n      <td>Varies with device</td>\n      <td>1000</td>\n      <td>Free</td>\n      <td>NaN</td>\n      <td>Mature 17+</td>\n      <td>Books &amp; Reference</td>\n      <td>January 19, 2015</td>\n      <td>Varies with device</td>\n      <td>Varies with device</td>\n    </tr>\n    <tr>\n      <th>10840</th>\n      <td>iHoroscope - 2018 Daily Horoscope &amp; Astrology</td>\n      <td>LIFESTYLE</td>\n      <td>4.5</td>\n      <td>398307</td>\n      <td>19M</td>\n      <td>10000000</td>\n      <td>Free</td>\n      <td>NaN</td>\n      <td>Everyone</td>\n      <td>Lifestyle</td>\n      <td>July 25, 2018</td>\n      <td>Varies with device</td>\n      <td>Varies with device</td>\n    </tr>\n  </tbody>\n</table>\n<p>1705 rows × 13 columns</p>\n</div>"
     },
     "execution_count": 60,
     "metadata": {},
     "output_type": "execute_result"
    }
   ],
   "source": [
    "cleaned_data[cleaned_data['Price']!=0.0]"
   ],
   "metadata": {
    "collapsed": false,
    "pycharm": {
     "name": "#%%\n"
    }
   }
  },
  {
   "cell_type": "code",
   "execution_count": 61,
   "outputs": [],
   "source": [
    "cleaned_data.dropna(subset=['Price'],inplace=True)"
   ],
   "metadata": {
    "collapsed": false,
    "pycharm": {
     "name": "#%%\n"
    }
   }
  },
  {
   "cell_type": "code",
   "execution_count": 62,
   "outputs": [
    {
     "data": {
      "text/plain": "App               0\nCategory          0\nRating            0\nReviews           0\nSize              0\nInstalls          0\nType              0\nPrice             0\nContent Rating    0\nGenres            0\nLast Updated      0\nCurrent Ver       0\nAndroid Ver       0\ndtype: int64"
     },
     "execution_count": 62,
     "metadata": {},
     "output_type": "execute_result"
    }
   ],
   "source": [
    "cleaned_data.isnull().sum()"
   ],
   "metadata": {
    "collapsed": false,
    "pycharm": {
     "name": "#%%\n"
    }
   }
  },
  {
   "cell_type": "code",
   "execution_count": 63,
   "outputs": [
    {
     "data": {
      "text/plain": "                                                    App        Category  \\\n0        Photo Editor & Candy Camera & Grid & ScrapBook  ART_AND_DESIGN   \n1                                   Coloring book moana  ART_AND_DESIGN   \n2     U Launcher Lite – FREE Live Cool Themes, Hide ...  ART_AND_DESIGN   \n3                                 Sketch - Draw & Paint  ART_AND_DESIGN   \n4                 Pixel Draw - Number Art Coloring Book  ART_AND_DESIGN   \n...                                                 ...             ...   \n9355                                 Pocket Little Pony          FAMILY   \n9356                    Dance Magic Fashion Style Games          FAMILY   \n9357         Inventory & Barcode scanner & WIFI scanner    PRODUCTIVITY   \n9358                           MLP Colouring Adventures          FAMILY   \n9359  Miraculous Ladybug & Cat Noir - The Official Game            GAME   \n\n      Rating  Reviews  Size  Installs  Type  Price Content Rating  \\\n0        4.1      159   19M     10000  Free    0.0       Everyone   \n1        3.9      967   14M    500000  Free    0.0       Everyone   \n2        4.7    87510  8.7M   5000000  Free    0.0       Everyone   \n3        4.5   215644   25M  50000000  Free    0.0           Teen   \n4        4.3      967  2.8M    100000  Free    0.0       Everyone   \n...      ...      ...   ...       ...   ...    ...            ...   \n9355     4.1    47576   14M   1000000  Free    0.0   Everyone 10+   \n9356     4.6     2533   46M    100000  Free    0.0       Everyone   \n9357     4.6     1880   18M     50000  Paid    0.0       Everyone   \n9358     3.8     7379   61M   1000000  Free    0.0       Everyone   \n9359     4.5   185382   99M  10000000  Free    0.0       Everyone   \n\n                         Genres       Last Updated         Current Ver  \\\n0                  Art & Design    January 7, 2018               1.0.0   \n1     Art & Design;Pretend Play   January 15, 2018               2.0.0   \n2                  Art & Design     August 1, 2018               1.2.4   \n3                  Art & Design       June 8, 2018  Varies with device   \n4       Art & Design;Creativity      June 20, 2018                 1.1   \n...                         ...                ...                 ...   \n9355                 Simulation      March 1, 2017                1.95   \n9356                 Simulation  February 27, 2018                 1.0   \n9357               Productivity       July 1, 2018                6.08   \n9358              Entertainment     March 28, 2017                 1.0   \n9359                     Action      July 30, 2018               1.0.6   \n\n       Android Ver  \n0     4.0.3 and up  \n1     4.0.3 and up  \n2     4.0.3 and up  \n3       4.2 and up  \n4       4.4 and up  \n...            ...  \n9355    4.0 and up  \n9356    4.0 and up  \n9357    4.3 and up  \n9358    4.4 and up  \n9359    4.4 and up  \n\n[8220 rows x 13 columns]",
      "text/html": "<div>\n<style scoped>\n    .dataframe tbody tr th:only-of-type {\n        vertical-align: middle;\n    }\n\n    .dataframe tbody tr th {\n        vertical-align: top;\n    }\n\n    .dataframe thead th {\n        text-align: right;\n    }\n</style>\n<table border=\"1\" class=\"dataframe\">\n  <thead>\n    <tr style=\"text-align: right;\">\n      <th></th>\n      <th>App</th>\n      <th>Category</th>\n      <th>Rating</th>\n      <th>Reviews</th>\n      <th>Size</th>\n      <th>Installs</th>\n      <th>Type</th>\n      <th>Price</th>\n      <th>Content Rating</th>\n      <th>Genres</th>\n      <th>Last Updated</th>\n      <th>Current Ver</th>\n      <th>Android Ver</th>\n    </tr>\n  </thead>\n  <tbody>\n    <tr>\n      <th>0</th>\n      <td>Photo Editor &amp; Candy Camera &amp; Grid &amp; ScrapBook</td>\n      <td>ART_AND_DESIGN</td>\n      <td>4.1</td>\n      <td>159</td>\n      <td>19M</td>\n      <td>10000</td>\n      <td>Free</td>\n      <td>0.0</td>\n      <td>Everyone</td>\n      <td>Art &amp; Design</td>\n      <td>January 7, 2018</td>\n      <td>1.0.0</td>\n      <td>4.0.3 and up</td>\n    </tr>\n    <tr>\n      <th>1</th>\n      <td>Coloring book moana</td>\n      <td>ART_AND_DESIGN</td>\n      <td>3.9</td>\n      <td>967</td>\n      <td>14M</td>\n      <td>500000</td>\n      <td>Free</td>\n      <td>0.0</td>\n      <td>Everyone</td>\n      <td>Art &amp; Design;Pretend Play</td>\n      <td>January 15, 2018</td>\n      <td>2.0.0</td>\n      <td>4.0.3 and up</td>\n    </tr>\n    <tr>\n      <th>2</th>\n      <td>U Launcher Lite – FREE Live Cool Themes, Hide ...</td>\n      <td>ART_AND_DESIGN</td>\n      <td>4.7</td>\n      <td>87510</td>\n      <td>8.7M</td>\n      <td>5000000</td>\n      <td>Free</td>\n      <td>0.0</td>\n      <td>Everyone</td>\n      <td>Art &amp; Design</td>\n      <td>August 1, 2018</td>\n      <td>1.2.4</td>\n      <td>4.0.3 and up</td>\n    </tr>\n    <tr>\n      <th>3</th>\n      <td>Sketch - Draw &amp; Paint</td>\n      <td>ART_AND_DESIGN</td>\n      <td>4.5</td>\n      <td>215644</td>\n      <td>25M</td>\n      <td>50000000</td>\n      <td>Free</td>\n      <td>0.0</td>\n      <td>Teen</td>\n      <td>Art &amp; Design</td>\n      <td>June 8, 2018</td>\n      <td>Varies with device</td>\n      <td>4.2 and up</td>\n    </tr>\n    <tr>\n      <th>4</th>\n      <td>Pixel Draw - Number Art Coloring Book</td>\n      <td>ART_AND_DESIGN</td>\n      <td>4.3</td>\n      <td>967</td>\n      <td>2.8M</td>\n      <td>100000</td>\n      <td>Free</td>\n      <td>0.0</td>\n      <td>Everyone</td>\n      <td>Art &amp; Design;Creativity</td>\n      <td>June 20, 2018</td>\n      <td>1.1</td>\n      <td>4.4 and up</td>\n    </tr>\n    <tr>\n      <th>...</th>\n      <td>...</td>\n      <td>...</td>\n      <td>...</td>\n      <td>...</td>\n      <td>...</td>\n      <td>...</td>\n      <td>...</td>\n      <td>...</td>\n      <td>...</td>\n      <td>...</td>\n      <td>...</td>\n      <td>...</td>\n      <td>...</td>\n    </tr>\n    <tr>\n      <th>9355</th>\n      <td>Pocket Little Pony</td>\n      <td>FAMILY</td>\n      <td>4.1</td>\n      <td>47576</td>\n      <td>14M</td>\n      <td>1000000</td>\n      <td>Free</td>\n      <td>0.0</td>\n      <td>Everyone 10+</td>\n      <td>Simulation</td>\n      <td>March 1, 2017</td>\n      <td>1.95</td>\n      <td>4.0 and up</td>\n    </tr>\n    <tr>\n      <th>9356</th>\n      <td>Dance Magic Fashion Style Games</td>\n      <td>FAMILY</td>\n      <td>4.6</td>\n      <td>2533</td>\n      <td>46M</td>\n      <td>100000</td>\n      <td>Free</td>\n      <td>0.0</td>\n      <td>Everyone</td>\n      <td>Simulation</td>\n      <td>February 27, 2018</td>\n      <td>1.0</td>\n      <td>4.0 and up</td>\n    </tr>\n    <tr>\n      <th>9357</th>\n      <td>Inventory &amp; Barcode scanner &amp; WIFI scanner</td>\n      <td>PRODUCTIVITY</td>\n      <td>4.6</td>\n      <td>1880</td>\n      <td>18M</td>\n      <td>50000</td>\n      <td>Paid</td>\n      <td>0.0</td>\n      <td>Everyone</td>\n      <td>Productivity</td>\n      <td>July 1, 2018</td>\n      <td>6.08</td>\n      <td>4.3 and up</td>\n    </tr>\n    <tr>\n      <th>9358</th>\n      <td>MLP Colouring Adventures</td>\n      <td>FAMILY</td>\n      <td>3.8</td>\n      <td>7379</td>\n      <td>61M</td>\n      <td>1000000</td>\n      <td>Free</td>\n      <td>0.0</td>\n      <td>Everyone</td>\n      <td>Entertainment</td>\n      <td>March 28, 2017</td>\n      <td>1.0</td>\n      <td>4.4 and up</td>\n    </tr>\n    <tr>\n      <th>9359</th>\n      <td>Miraculous Ladybug &amp; Cat Noir - The Official Game</td>\n      <td>GAME</td>\n      <td>4.5</td>\n      <td>185382</td>\n      <td>99M</td>\n      <td>10000000</td>\n      <td>Free</td>\n      <td>0.0</td>\n      <td>Everyone</td>\n      <td>Action</td>\n      <td>July 30, 2018</td>\n      <td>1.0.6</td>\n      <td>4.4 and up</td>\n    </tr>\n  </tbody>\n</table>\n<p>8220 rows × 13 columns</p>\n</div>"
     },
     "execution_count": 63,
     "metadata": {},
     "output_type": "execute_result"
    }
   ],
   "source": [
    "cleaned_data"
   ],
   "metadata": {
    "collapsed": false,
    "pycharm": {
     "name": "#%%\n"
    }
   }
  },
  {
   "cell_type": "code",
   "execution_count": 66,
   "outputs": [
    {
     "data": {
      "text/plain": "                                                    App        Category  \\\n0        Photo Editor & Candy Camera & Grid & ScrapBook  ART_AND_DESIGN   \n1                                   Coloring book moana  ART_AND_DESIGN   \n2     U Launcher Lite – FREE Live Cool Themes, Hide ...  ART_AND_DESIGN   \n3                                 Sketch - Draw & Paint  ART_AND_DESIGN   \n4                 Pixel Draw - Number Art Coloring Book  ART_AND_DESIGN   \n...                                                 ...             ...   \n9355                                 Pocket Little Pony          FAMILY   \n9356                    Dance Magic Fashion Style Games          FAMILY   \n9357         Inventory & Barcode scanner & WIFI scanner    PRODUCTIVITY   \n9358                           MLP Colouring Adventures          FAMILY   \n9359  Miraculous Ladybug & Cat Noir - The Official Game            GAME   \n\n      Rating  Reviews  Size  Installs  Type  Price Content Rating  \\\n0        4.1      159   19M     10000  Free    0.0       Everyone   \n1        3.9      967   14M    500000  Free    0.0       Everyone   \n2        4.7    87510  8.7M   5000000  Free    0.0       Everyone   \n3        4.5   215644   25M  50000000  Free    0.0           Teen   \n4        4.3      967  2.8M    100000  Free    0.0       Everyone   \n...      ...      ...   ...       ...   ...    ...            ...   \n9355     4.1    47576   14M   1000000  Free    0.0   Everyone 10+   \n9356     4.6     2533   46M    100000  Free    0.0       Everyone   \n9357     4.6     1880   18M     50000  Paid    0.0       Everyone   \n9358     3.8     7379   61M   1000000  Free    0.0       Everyone   \n9359     4.5   185382   99M  10000000  Free    0.0       Everyone   \n\n                         Genres       Last Updated         Current Ver  \\\n0                  Art & Design    January 7, 2018               1.0.0   \n1     Art & Design;Pretend Play   January 15, 2018               2.0.0   \n2                  Art & Design     August 1, 2018               1.2.4   \n3                  Art & Design       June 8, 2018  Varies with device   \n4       Art & Design;Creativity      June 20, 2018                 1.1   \n...                         ...                ...                 ...   \n9355                 Simulation      March 1, 2017                1.95   \n9356                 Simulation  February 27, 2018                 1.0   \n9357               Productivity       July 1, 2018                6.08   \n9358              Entertainment     March 28, 2017                 1.0   \n9359                     Action      July 30, 2018               1.0.6   \n\n       Android Ver  \n0     4.0.3 and up  \n1     4.0.3 and up  \n2     4.0.3 and up  \n3       4.2 and up  \n4       4.4 and up  \n...            ...  \n9355    4.0 and up  \n9356    4.0 and up  \n9357    4.3 and up  \n9358    4.4 and up  \n9359    4.4 and up  \n\n[8220 rows x 13 columns]",
      "text/html": "<div>\n<style scoped>\n    .dataframe tbody tr th:only-of-type {\n        vertical-align: middle;\n    }\n\n    .dataframe tbody tr th {\n        vertical-align: top;\n    }\n\n    .dataframe thead th {\n        text-align: right;\n    }\n</style>\n<table border=\"1\" class=\"dataframe\">\n  <thead>\n    <tr style=\"text-align: right;\">\n      <th></th>\n      <th>App</th>\n      <th>Category</th>\n      <th>Rating</th>\n      <th>Reviews</th>\n      <th>Size</th>\n      <th>Installs</th>\n      <th>Type</th>\n      <th>Price</th>\n      <th>Content Rating</th>\n      <th>Genres</th>\n      <th>Last Updated</th>\n      <th>Current Ver</th>\n      <th>Android Ver</th>\n    </tr>\n  </thead>\n  <tbody>\n    <tr>\n      <th>0</th>\n      <td>Photo Editor &amp; Candy Camera &amp; Grid &amp; ScrapBook</td>\n      <td>ART_AND_DESIGN</td>\n      <td>4.1</td>\n      <td>159</td>\n      <td>19M</td>\n      <td>10000</td>\n      <td>Free</td>\n      <td>0.0</td>\n      <td>Everyone</td>\n      <td>Art &amp; Design</td>\n      <td>January 7, 2018</td>\n      <td>1.0.0</td>\n      <td>4.0.3 and up</td>\n    </tr>\n    <tr>\n      <th>1</th>\n      <td>Coloring book moana</td>\n      <td>ART_AND_DESIGN</td>\n      <td>3.9</td>\n      <td>967</td>\n      <td>14M</td>\n      <td>500000</td>\n      <td>Free</td>\n      <td>0.0</td>\n      <td>Everyone</td>\n      <td>Art &amp; Design;Pretend Play</td>\n      <td>January 15, 2018</td>\n      <td>2.0.0</td>\n      <td>4.0.3 and up</td>\n    </tr>\n    <tr>\n      <th>2</th>\n      <td>U Launcher Lite – FREE Live Cool Themes, Hide ...</td>\n      <td>ART_AND_DESIGN</td>\n      <td>4.7</td>\n      <td>87510</td>\n      <td>8.7M</td>\n      <td>5000000</td>\n      <td>Free</td>\n      <td>0.0</td>\n      <td>Everyone</td>\n      <td>Art &amp; Design</td>\n      <td>August 1, 2018</td>\n      <td>1.2.4</td>\n      <td>4.0.3 and up</td>\n    </tr>\n    <tr>\n      <th>3</th>\n      <td>Sketch - Draw &amp; Paint</td>\n      <td>ART_AND_DESIGN</td>\n      <td>4.5</td>\n      <td>215644</td>\n      <td>25M</td>\n      <td>50000000</td>\n      <td>Free</td>\n      <td>0.0</td>\n      <td>Teen</td>\n      <td>Art &amp; Design</td>\n      <td>June 8, 2018</td>\n      <td>Varies with device</td>\n      <td>4.2 and up</td>\n    </tr>\n    <tr>\n      <th>4</th>\n      <td>Pixel Draw - Number Art Coloring Book</td>\n      <td>ART_AND_DESIGN</td>\n      <td>4.3</td>\n      <td>967</td>\n      <td>2.8M</td>\n      <td>100000</td>\n      <td>Free</td>\n      <td>0.0</td>\n      <td>Everyone</td>\n      <td>Art &amp; Design;Creativity</td>\n      <td>June 20, 2018</td>\n      <td>1.1</td>\n      <td>4.4 and up</td>\n    </tr>\n    <tr>\n      <th>...</th>\n      <td>...</td>\n      <td>...</td>\n      <td>...</td>\n      <td>...</td>\n      <td>...</td>\n      <td>...</td>\n      <td>...</td>\n      <td>...</td>\n      <td>...</td>\n      <td>...</td>\n      <td>...</td>\n      <td>...</td>\n      <td>...</td>\n    </tr>\n    <tr>\n      <th>9355</th>\n      <td>Pocket Little Pony</td>\n      <td>FAMILY</td>\n      <td>4.1</td>\n      <td>47576</td>\n      <td>14M</td>\n      <td>1000000</td>\n      <td>Free</td>\n      <td>0.0</td>\n      <td>Everyone 10+</td>\n      <td>Simulation</td>\n      <td>March 1, 2017</td>\n      <td>1.95</td>\n      <td>4.0 and up</td>\n    </tr>\n    <tr>\n      <th>9356</th>\n      <td>Dance Magic Fashion Style Games</td>\n      <td>FAMILY</td>\n      <td>4.6</td>\n      <td>2533</td>\n      <td>46M</td>\n      <td>100000</td>\n      <td>Free</td>\n      <td>0.0</td>\n      <td>Everyone</td>\n      <td>Simulation</td>\n      <td>February 27, 2018</td>\n      <td>1.0</td>\n      <td>4.0 and up</td>\n    </tr>\n    <tr>\n      <th>9357</th>\n      <td>Inventory &amp; Barcode scanner &amp; WIFI scanner</td>\n      <td>PRODUCTIVITY</td>\n      <td>4.6</td>\n      <td>1880</td>\n      <td>18M</td>\n      <td>50000</td>\n      <td>Paid</td>\n      <td>0.0</td>\n      <td>Everyone</td>\n      <td>Productivity</td>\n      <td>July 1, 2018</td>\n      <td>6.08</td>\n      <td>4.3 and up</td>\n    </tr>\n    <tr>\n      <th>9358</th>\n      <td>MLP Colouring Adventures</td>\n      <td>FAMILY</td>\n      <td>3.8</td>\n      <td>7379</td>\n      <td>61M</td>\n      <td>1000000</td>\n      <td>Free</td>\n      <td>0.0</td>\n      <td>Everyone</td>\n      <td>Entertainment</td>\n      <td>March 28, 2017</td>\n      <td>1.0</td>\n      <td>4.4 and up</td>\n    </tr>\n    <tr>\n      <th>9359</th>\n      <td>Miraculous Ladybug &amp; Cat Noir - The Official Game</td>\n      <td>GAME</td>\n      <td>4.5</td>\n      <td>185382</td>\n      <td>99M</td>\n      <td>10000000</td>\n      <td>Free</td>\n      <td>0.0</td>\n      <td>Everyone</td>\n      <td>Action</td>\n      <td>July 30, 2018</td>\n      <td>1.0.6</td>\n      <td>4.4 and up</td>\n    </tr>\n  </tbody>\n</table>\n<p>8220 rows × 13 columns</p>\n</div>"
     },
     "execution_count": 66,
     "metadata": {},
     "output_type": "execute_result"
    }
   ],
   "source": [
    "cleaned_data[cleaned_data['Rating']<=5]"
   ],
   "metadata": {
    "collapsed": false,
    "pycharm": {
     "name": "#%%\n"
    }
   }
  },
  {
   "cell_type": "code",
   "execution_count": null,
   "outputs": [],
   "source": [],
   "metadata": {
    "collapsed": false,
    "pycharm": {
     "name": "#%%\n"
    }
   }
  }
 ],
 "metadata": {
  "kernelspec": {
   "display_name": "Python 3",
   "language": "python",
   "name": "python3"
  },
  "language_info": {
   "codemirror_mode": {
    "name": "ipython",
    "version": 2
   },
   "file_extension": ".py",
   "mimetype": "text/x-python",
   "name": "python",
   "nbconvert_exporter": "python",
   "pygments_lexer": "ipython2",
   "version": "2.7.6"
  }
 },
 "nbformat": 4,
 "nbformat_minor": 0
}