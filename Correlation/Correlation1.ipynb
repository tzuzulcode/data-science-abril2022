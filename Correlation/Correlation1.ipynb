{
 "cells": [
  {
   "cell_type": "markdown",
   "source": [
    "# Correlation\n",
    "\n",
    "La medida de relación que existe entre dos o más variables.\n",
    "\n",
    "Hay dos tipos:\n",
    "- Correlación positiva\n",
    "- Correlación negativa\n",
    "\n",
    "\n",
    "Coeficiente de correlación: Una métrica numérica que indica que variables están asociadas con otras (escala de -1 a 1)\n",
    "\n",
    "Matriz de correlación: Tabla que indica la correlación entre las diferentes variables o características de un dataset.\n",
    "\n",
    "Scatterplot o gráfico de dispersión"
   ],
   "metadata": {
    "collapsed": false,
    "pycharm": {
     "name": "#%% md\n"
    }
   }
  },
  {
   "cell_type": "code",
   "execution_count": null,
   "outputs": [],
   "source": [],
   "metadata": {
    "collapsed": false,
    "pycharm": {
     "name": "#%%\n"
    }
   }
  }
 ],
 "metadata": {
  "kernelspec": {
   "display_name": "Python 3",
   "language": "python",
   "name": "python3"
  },
  "language_info": {
   "codemirror_mode": {
    "name": "ipython",
    "version": 2
   },
   "file_extension": ".py",
   "mimetype": "text/x-python",
   "name": "python",
   "nbconvert_exporter": "python",
   "pygments_lexer": "ipython2",
   "version": "2.7.6"
  }
 },
 "nbformat": 4,
 "nbformat_minor": 0
}